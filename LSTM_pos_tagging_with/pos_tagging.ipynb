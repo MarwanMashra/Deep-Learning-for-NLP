{
 "cells": [
  {
   "attachments": {},
   "cell_type": "markdown",
   "id": "8b0a9bc4",
   "metadata": {},
   "source": [
    "# 🧑‍🎓 Students:\n",
    "\n",
    "- Diyun LU\n",
    "- Marwan MASHRA\n",
    "- Yihan ZHONG"
   ]
  },
  {
   "cell_type": "markdown",
   "id": "b29fe24a-4c18-47c9-88c3-1152dd366599",
   "metadata": {},
   "source": [
    "# Out of domain and cross-lingual part-of-speech tagging\n",
    "\n",
    "The goal of this lab exercise is to build a part-of-speech tagger that should be tested in the two following settings:\n",
    "- out-of-domain generalization: test the tagger on a different domain than the one used for training (but in the same language).\n",
    "- cross-lingual generalization: test the tagger on a different language that has been used for training.\n",
    "\n",
    "To this end, you will rely on the aligned fast-text embeddings: https://fasttext.cc/docs/en/aligned-vectors.html\n",
    "However, the original files are quite big, so I uploaded on the website a filtered version of them that contains only words data appears in the data we use.\n",
    "Two important points:\n",
    "- you must not fine tune these embeddings, they are fixed\n",
    "- you need to have a special embedding for unknown words (the ones that don't have embeddings in fasttext) that you initialize and fix to a vector full of 0 (e.g. add an unk word to your dictionnary)\n",
    "To take care of this, the best way is to build the dictionnary when you read the fasttext embedding file, and then when you read the data, replace the words that don't have embeddings with the UNK word.\n",
    "\n",
    "**Warning:** do not use any external library or tools to load the fast text embeddings. Do it yourself, it is just a few lines of Python.\n",
    "\n",
    "## Reading data\n",
    "\n",
    "The data is in the conllu format: https://universaldependencies.org/format.html\n",
    "\n",
    "Basically:\n",
    "- comments are lines starting with a #\n",
    "- a blank line separate sentences\n",
    "- the ID column can contain 3 types of values:\n",
    "  - a single number\n",
    "  - a \"empty\" token, these IDs contains a \".\", for example 4.1 --- ignore these lines\n",
    "  - multiwords, these IDs contains a \"-\", for example 4-5 --- ignore these lines\n",
    "- you must convert all word to lowercase (we only have embeddings for lowercased words)\n",
    "\n",
    "You must start by writting a function that reads a conllu files and returns the list of sentences and the list of part-of-speech tags (i.e. keep only columns \"form\" and \"UPOS\").\n",
    "\n",
    "**Warning:** do not use any library to read these files, it is just a few lines of Python.\n",
    "\n",
    "Dataset files:\n",
    "- in domain english data: en_ewt-ud-*.conllu\n",
    "- out of domain english data: en_pud-ud-test.conllu\n",
    "- French test data: fr_gsd-ud-test.conllu\n",
    "\n",
    "## Neural network\n",
    "\n",
    "You must build a very simple neural network:\n",
    "- word embeddings from fast-text\n",
    "- a bilstm to construct context sensitive representations of words\n",
    "- to predict the POS of each word, use a very simple and shallow MLP (even a simple linear projection is sufficient) at each position\n",
    "\n",
    "Importantly, word embeddings will be different when you test in the cross-lingual settings. Therefore, I strongly recommend you to have two separate modules:\n",
    "- one that retrieves word embeddings, that you instantiate two times (one time with English embeddings, one time with French embeddings) --- this also means that you need two dictionnaries that maps words to integers\n",
    "- one that does the rest of the computation\n",
    "\n",
    "In order to correctly batch you data during training, you will need to use pack_padded_sequence and pad_packed_sequence (check the lecture slides). Explain in the report why you needs them in this case (and why you didn't need them in the language model lab exercise) and what they do.\n",
    "\n",
    "## Evaluation:\n",
    "\n",
    "Returns the tagging accuracy, i.e. the number of correctly predicted tags.\n",
    "\n",
    "If you have time, you can also explore more fine-grained metrics, especially in the cross-lingual case: accuracy per tag type, recall/precision/F1 per tag type, ..."
   ]
  },
  {
   "cell_type": "code",
   "execution_count": 1,
   "id": "2b07fccd",
   "metadata": {},
   "outputs": [],
   "source": [
    "import torch\n",
    "import torch.nn as nn\n",
    "import torch.nn.functional as F\n",
    "import random, os, math\n",
    "import matplotlib.pyplot as plt \n",
    "from torch.nn.utils.rnn import pack_padded_sequence, pad_packed_sequence\n",
    "from torch.nn.utils.rnn import pad_sequence, pack_padded_sequence, pad_packed_sequence\n",
    "\n",
    "device = torch.device('cuda' if torch.cuda.is_available() else 'cpu')"
   ]
  },
  {
   "attachments": {},
   "cell_type": "markdown",
   "id": "93906ae9",
   "metadata": {},
   "source": [
    "### Read embeddings"
   ]
  },
  {
   "cell_type": "code",
   "execution_count": 2,
   "id": "3c642177-6b3e-4111-a1c6-2d35a0f49f19",
   "metadata": {},
   "outputs": [],
   "source": [
    "data_path = \"data/\"\n",
    "fr_emb_path = data_path+\"fasttext_fr\"\n",
    "en_emb_path = data_path+\"fasttext_en\"\n",
    "\n",
    "fr_vocab = {}\n",
    "en_vocab = {}\n",
    "\n",
    "emb_dim = 300\n",
    "\n",
    "def read_emb(file_path):\n",
    "    with open(file_path, 'r') as f:\n",
    "        lines = f.readlines()\n",
    "        emb = torch.empty(size=(len(lines)+1, emb_dim))\n",
    "        word_to_id = {}\n",
    "        id_to_word = {}\n",
    "        i = len(lines)\n",
    "        word_to_id['<unk>'] = i\n",
    "        id_to_word[i] = '<unk>'\n",
    "        emb[i].zero_() \n",
    "        for i, line in enumerate(lines):\n",
    "            splitted_lines = line.split()\n",
    "            word = splitted_lines[0]\n",
    "            word_to_id[word] = i\n",
    "            id_to_word[i] = word\n",
    "            emb[i] = torch.tensor(list(map(float, splitted_lines[-emb_dim:])), requires_grad=False)    # mistake line 13334\n",
    "        return emb, word_to_id, id_to_word\n",
    "\n",
    "en_emb, en_word_to_id, en_id_to_word = read_emb(en_emb_path)\n",
    "fr_emb, fr_word_to_id, fr_id_to_word = read_emb(fr_emb_path)"
   ]
  },
  {
   "attachments": {},
   "cell_type": "markdown",
   "id": "bdf4daae",
   "metadata": {},
   "source": [
    "### Read Data"
   ]
  },
  {
   "cell_type": "code",
   "execution_count": 3,
   "id": "357bc0d9",
   "metadata": {},
   "outputs": [],
   "source": [
    "def read_conll(in_file, lowercase=True, max_example=None):\n",
    "    list_txt = []\n",
    "    list_pos = []\n",
    "    with open(in_file) as f:\n",
    "        word, pos = [], []\n",
    "        for line in f.readlines():\n",
    "            sp = line.strip().split('\\t')\n",
    "            if len(sp) == 10:\n",
    "                if sp[0].isdigit():\n",
    "                    word.append(sp[1].lower() if lowercase else sp[1])\n",
    "                    pos.append(sp[3])\n",
    "            elif len(word) > 0:\n",
    "                list_txt.append(word)\n",
    "                list_pos.append(pos)\n",
    "                word, pos = [], []\n",
    "                if (max_example is not None) and (len(list_txt) == max_example):\n",
    "                    break\n",
    "        if len(word) > 0:\n",
    "            list_txt.append(word)\n",
    "            list_pos.append(pos)\n",
    "    return list_txt, list_pos\n",
    "\n",
    "en_txt_train, en_pos_train = read_conll(data_path+\"en_ewt-ud-train.conllu\")\n",
    "en_txt_dev, en_pos_dev = read_conll(data_path+\"en_ewt-ud-dev.conllu\")\n",
    "en_txt_test, en_pos_test = read_conll(data_path+\"en_ewt-ud-test.conllu\")\n",
    "\n",
    "fr_txt_test, fr_pos_test = read_conll(data_path+\"fr_gsd-ud-test.conllu\")\n",
    "pud_txt_test, pud_pos_test = read_conll(data_path+\"en_pud-ud-test.conllu\")"
   ]
  },
  {
   "attachments": {},
   "cell_type": "markdown",
   "id": "3b9468ba",
   "metadata": {},
   "source": [
    "### Process Data"
   ]
  },
  {
   "cell_type": "code",
   "execution_count": 4,
   "id": "3077aeec",
   "metadata": {},
   "outputs": [
    {
     "data": {
      "text/plain": [
       "{'PROPN': 0,\n",
       " 'PUNCT': 1,\n",
       " 'ADJ': 2,\n",
       " 'NOUN': 3,\n",
       " 'VERB': 4,\n",
       " 'DET': 5,\n",
       " 'ADP': 6,\n",
       " 'AUX': 7,\n",
       " 'PRON': 8,\n",
       " 'PART': 9,\n",
       " 'SCONJ': 10,\n",
       " 'NUM': 11,\n",
       " 'ADV': 12,\n",
       " 'CCONJ': 13,\n",
       " 'X': 14,\n",
       " 'INTJ': 15,\n",
       " 'SYM': 16}"
      ]
     },
     "execution_count": 4,
     "metadata": {},
     "output_type": "execute_result"
    }
   ],
   "source": [
    "def get_pos_idx(pos):\n",
    "    pos_to_id = {}\n",
    "    id_to_pos = {}\n",
    "    for sentence in pos:\n",
    "        for p in sentence:\n",
    "            if p not in pos_to_id:\n",
    "                index = len(pos_to_id)\n",
    "                pos_to_id[p] = index\n",
    "                id_to_pos[index] = p\n",
    "    return pos_to_id, id_to_pos\n",
    "\n",
    "en_pos_to_id, en_id_to_pos = get_pos_idx(en_pos_train)\n",
    "en_pos_to_id"
   ]
  },
  {
   "cell_type": "code",
   "execution_count": 5,
   "id": "8da4e6f6",
   "metadata": {},
   "outputs": [],
   "source": [
    "def encoder(txt, pos, word_to_id, pos_to_id):\n",
    "    def word_encoder(word):\n",
    "        if word not in word_to_id and word[-1]=='s' and word[:-1] in word_to_id:\n",
    "            word = word[:-1]\n",
    "        elif word not in word_to_id:\n",
    "            word = '<unk>'\n",
    "        return word_to_id[word]\n",
    "\n",
    "    sentence_encoder = lambda sentence: list(map(word_encoder, sentence))\n",
    "    pos_encoder = lambda sentence: list(map(lambda p: pos_to_id[p], sentence))\n",
    "\n",
    "    txt_encoded = list(map(sentence_encoder, txt))\n",
    "    pos_encoded = list(map(pos_encoder, pos))\n",
    "\n",
    "    return txt_encoded, pos_encoded\n",
    "\n",
    "en_x_train, en_y_train = encoder(en_txt_train, en_pos_train, en_word_to_id, en_pos_to_id)\n",
    "en_x_dev, en_y_dev = encoder(en_txt_dev, en_pos_dev, en_word_to_id, en_pos_to_id)\n",
    "en_x_test, en_y_test = encoder(en_txt_test, en_pos_test, en_word_to_id, en_pos_to_id)\n",
    "\n",
    "fr_x_test, fr_y_test = encoder(fr_txt_test, fr_pos_test, fr_word_to_id, en_pos_to_id)\n",
    "pud_x_test, pud_y_test = encoder(pud_txt_test, pud_pos_test, en_word_to_id, en_pos_to_id)"
   ]
  },
  {
   "attachments": {},
   "cell_type": "markdown",
   "id": "f1a30a81",
   "metadata": {},
   "source": [
    "### Create Embeddings table"
   ]
  },
  {
   "cell_type": "code",
   "execution_count": 6,
   "id": "8d2a055d",
   "metadata": {},
   "outputs": [
    {
     "data": {
      "text/plain": [
       "[torch.Size([29, 300]),\n",
       " torch.Size([18, 300]),\n",
       " torch.Size([17, 300]),\n",
       " torch.Size([16, 300]),\n",
       " torch.Size([36, 300]),\n",
       " torch.Size([13, 300]),\n",
       " torch.Size([13, 300]),\n",
       " torch.Size([16, 300]),\n",
       " torch.Size([35, 300]),\n",
       " torch.Size([20, 300])]"
      ]
     },
     "execution_count": 6,
     "metadata": {},
     "output_type": "execute_result"
    }
   ],
   "source": [
    "class Embedding(nn.Module):\n",
    "    def __init__(self, emb_table: torch.Tensor):\n",
    "        super(Embedding, self).__init__()\n",
    "        self.emb_table = emb_table\n",
    "\n",
    "    def forward(self, input):\n",
    "        emb = list()\n",
    "        for sentence in input:\n",
    "            emb.append(self.emb_table[sentence].to(device))\n",
    "        return emb\n",
    "\n",
    "en_emb_table = Embedding(en_emb)\n",
    "fr_emb_table = Embedding(fr_emb)\n",
    "emb_example = en_emb_table(en_x_train[:10])\n",
    "[emb.shape for emb in emb_example]"
   ]
  },
  {
   "attachments": {},
   "cell_type": "markdown",
   "id": "1a910228",
   "metadata": {},
   "source": [
    "### Create the Tagger"
   ]
  },
  {
   "cell_type": "code",
   "execution_count": 102,
   "id": "202a828c",
   "metadata": {},
   "outputs": [
    {
     "name": "stdout",
     "output_type": "stream",
     "text": [
      "0.10798121988773346\n"
     ]
    },
    {
     "data": {
      "text/plain": [
       "tensor([4, 4, 4, 4, 4, 4, 4, 4, 4, 4, 4, 4, 4, 4, 4, 4, 4, 4, 4, 4, 4, 4, 4, 4,\n",
       "        4, 4, 4, 4, 4, 4, 4, 4, 4, 4, 4, 4, 4, 4, 4, 4, 4, 4, 4, 4, 4, 4, 4, 4,\n",
       "        4, 4, 4, 4, 4, 4, 4, 4, 4, 4, 4, 4, 4, 4, 4, 4, 4, 4, 4, 4, 4, 4, 4, 4,\n",
       "        4, 4, 4, 4, 4, 4, 4, 4, 4, 4, 4, 4, 4, 4, 4, 4, 4, 4, 4, 4, 4, 4, 4, 4,\n",
       "        4, 4, 4, 4, 4, 4, 4, 4, 4, 4, 4, 4, 4, 4, 4, 4, 4, 4, 4, 4, 4, 4, 4, 4,\n",
       "        4, 4, 4, 4, 4, 4, 4, 4, 4, 4, 4, 4, 4, 4, 4, 4, 4, 4, 4, 4, 4, 4, 4, 4,\n",
       "        4, 4, 4, 4, 4, 4, 4, 4, 4, 4, 4, 4, 4, 4, 4, 4, 4, 4, 4, 4, 4, 4, 4, 4,\n",
       "        4, 4, 4, 4, 4, 4, 4, 4, 4, 4, 4, 4, 4, 4, 4, 4, 4, 4, 4, 4, 4, 4, 4, 4,\n",
       "        4, 4, 4, 4, 4, 4, 4, 4, 4, 4, 4, 4, 4, 4, 4, 4, 4, 4, 4, 4, 4],\n",
       "       device='cuda:0')"
      ]
     },
     "execution_count": 102,
     "metadata": {},
     "output_type": "execute_result"
    }
   ],
   "source": [
    "class Tagger(nn.Module):\n",
    "    def __init__(self, output_dim, stack_size=2, embedding_dim=300, hidden_dim=10, hidden_size=10, num_layers=1, dropout=0.0):\n",
    "        super(Tagger, self).__init__()\n",
    "        assert stack_size > 0\n",
    "        self.output_dim = output_dim\n",
    "        self.embedding_dim = embedding_dim\n",
    "        self.hidden_dim = hidden_dim\n",
    "        self.hidden_size = hidden_size\n",
    "        self.lstms = nn.ModuleList(\n",
    "            nn.LSTM(input_size=self.hidden_size*2, hidden_size=self.hidden_size,\n",
    "                        num_layers=num_layers, batch_first=True, bidirectional=True).to(device)\n",
    "            for _ in range(stack_size-1)\n",
    "        )\n",
    "        self.lstms.insert(0, nn.LSTM(input_size=self.embedding_dim, hidden_size=self.hidden_size,\n",
    "                        num_layers=num_layers, batch_first=True, bidirectional=True).to(device))\n",
    "\n",
    "        self.mlp = nn.Sequential(\n",
    "            nn.Linear(self.hidden_size*2, self.hidden_dim),\n",
    "            nn.ReLU(),\n",
    "            nn.Linear(self.hidden_dim, self.output_dim),\n",
    "        ).to(device)\n",
    "\n",
    "    def forward(self, emb):\n",
    "        # pad the sequence\n",
    "        lengths = list(map(len, emb))\n",
    "        padded_emb = pad_sequence(emb, batch_first=True)\n",
    "        packed_emb = pack_padded_sequence(padded_emb, batch_first=True, lengths=lengths, enforce_sorted=False)\n",
    "        # forward through LSTMs\n",
    "        packed_output = packed_emb\n",
    "        for lstm in self.lstms:\n",
    "            packed_output, _ = lstm(packed_output)\n",
    "        unpacked_output, unpacked_lengths = pad_packed_sequence(packed_output, batch_first=True)\n",
    "        stacked_output = unpacked_output.view(-1, unpacked_output.size(2))\n",
    "        # create the mask\n",
    "        mask = torch.zeros(size=unpacked_output.shape[:2]).to(device)\n",
    "        for i, length in enumerate(unpacked_lengths):\n",
    "            mask[i, :length] = 1\n",
    "        mask = mask.view(-1).to(bool)\n",
    "        # forward through MLP\n",
    "        output = stacked_output[mask]\n",
    "        logits = self.mlp(output)\n",
    "        log_probs = F.log_softmax(logits, dim=1)\n",
    "        return log_probs\n",
    "\n",
    "    def predict(self, emb, batch_size=256):\n",
    "        self.eval()\n",
    "        y_pred = []\n",
    "        for i in range(0, len(emb), batch_size):  \n",
    "            emb_batch = emb[i:i+batch_size]\n",
    "            log_probs = self.forward(emb_batch)\n",
    "            y_pred.append(log_probs.argmax(dim=1))\n",
    "        return torch.cat(y_pred)\n",
    "\n",
    "    def compute_accuracy(self, emb, y_gold, batch_size=256):\n",
    "        self.eval()\n",
    "        gold_batch = torch.cat([torch.tensor(y) for y in y_gold]).to(device)\n",
    "        y_pred = self.predict(emb, batch_size=batch_size)\n",
    "        acc = (gold_batch==y_pred).sum() / y_pred.size(0)    \n",
    "        return acc.item()\n",
    "        \n",
    "\n",
    "tagger = Tagger(output_dim=len(en_pos_to_id)).to(device)\n",
    "print(tagger.compute_accuracy(en_emb_table(en_x_train[:10]), en_y_train[:10]))\n",
    "tagger.predict(emb_example)"
   ]
  },
  {
   "attachments": {},
   "cell_type": "markdown",
   "id": "433315af",
   "metadata": {},
   "source": [
    "### Training Loop"
   ]
  },
  {
   "cell_type": "code",
   "execution_count": 35,
   "id": "b316fdc9",
   "metadata": {},
   "outputs": [],
   "source": [
    "def train(\n",
    "    model,\n",
    "    n_epoch=100,\n",
    "    batch_size=256,\n",
    "    lr=1e-3,\n",
    "    early_stopping=True,\n",
    "    early_stopping_limit=3,\n",
    "    save_plot=False,\n",
    "    emb_table=en_emb_table,\n",
    "    x_train=en_x_train,\n",
    "    y_train=en_y_train,\n",
    "    x_dev=en_x_dev,\n",
    "    y_dev=en_y_dev,\n",
    "    x_test=en_x_test,\n",
    "    y_test=en_y_test,\n",
    "):\n",
    "\n",
    "    early_stopping_limit = early_stopping_limit\n",
    "    dev_loss_up = 0\n",
    "    optimizer = torch.optim.Adam(model.parameters(), lr=lr)\n",
    "    loss_train = list()\n",
    "    loss_dev = list()\n",
    "    loss_function = nn.NLLLoss()\n",
    "    acc_train = list()\n",
    "    acc_dev = list()\n",
    "    for epoch in range(n_epoch):\n",
    "        model.train()\n",
    "        losses_train = list()\n",
    "        batch_counter = 0\n",
    "        for i in range(0, len(x_train), batch_size):\n",
    "            optimizer.zero_grad()\n",
    "            gold = torch.cat([torch.tensor(y) for y in y_train[i:i+batch_size]]).to(device)\n",
    "            batch = x_train[i:i+batch_size]\n",
    "            emb_batch = emb_table(batch)\n",
    "            log_probs = model(emb_batch)\n",
    "            loss = loss_function(log_probs, gold)\n",
    "            losses_train.append(loss.item())\n",
    "            loss.backward()\n",
    "            torch.nn.utils.clip_grad_norm_(model.parameters(), 5)\n",
    "            optimizer.step()\n",
    "            print(f\"batch {batch_counter}/{int(len(x_train)/batch_size)}\", end='\\r', flush=True)\n",
    "            batch_counter += 1\n",
    "        mean_train_loss = sum(losses_train)/len(losses_train)\n",
    "        loss_train.append(mean_train_loss)\n",
    "        losses_dev = []\n",
    "\n",
    "        model.eval()\n",
    "        log_probs = model(emb_table(x_dev))\n",
    "        dev_labels = torch.cat([torch.tensor(y) for y in y_dev]).to(device)\n",
    "        dev_loss = loss_function(log_probs, dev_labels) \n",
    "        loss_dev.append(dev_loss.item())\n",
    "\n",
    "        acc_train.append(model.compute_accuracy(emb_table(x_train), y_train))\n",
    "        acc_dev.append(model.compute_accuracy(emb_table(x_dev), y_dev))\n",
    "\n",
    "        print(f\"{epoch+1}) train_loss: {mean_train_loss:.3f}  dev_loss: {loss_dev[-1]:.3f} train_acc:{acc_train[-1]:.3f} dev_acc:{acc_dev[-1]:.3f}\")\n",
    "\n",
    "        if early_stopping: \n",
    "            if len(loss_dev)>5 and loss_dev[-1]>=loss_dev[-2]:\n",
    "                dev_loss_up += 1\n",
    "            else:\n",
    "                dev_loss_up = 0\n",
    "            if dev_loss_up==early_stopping_limit:\n",
    "                print(f\"Preformed {epoch+1} epochs\")\n",
    "                break\n",
    "\n",
    "    return loss_train, loss_dev, acc_train, acc_dev"
   ]
  },
  {
   "attachments": {},
   "cell_type": "markdown",
   "id": "4f6e1e12",
   "metadata": {},
   "source": [
    "### Two Stack BiLSTM Tagger"
   ]
  },
  {
   "cell_type": "code",
   "execution_count": 36,
   "id": "8d075a75",
   "metadata": {},
   "outputs": [
    {
     "name": "stdout",
     "output_type": "stream",
     "text": [
      "1) train_loss: 2.812  dev_loss: 2.736 train_acc:0.080 dev_acc:0.076\n",
      "2) train_loss: 2.652  dev_loss: 2.556 train_acc:0.141 dev_acc:0.151\n",
      "3) train_loss: 2.473  dev_loss: 2.376 train_acc:0.252 dev_acc:0.258\n",
      "4) train_loss: 2.279  dev_loss: 2.177 train_acc:0.287 dev_acc:0.290\n",
      "5) train_loss: 2.091  dev_loss: 2.007 train_acc:0.358 dev_acc:0.353\n",
      "6) train_loss: 1.932  dev_loss: 1.856 train_acc:0.406 dev_acc:0.398\n",
      "7) train_loss: 1.777  dev_loss: 1.699 train_acc:0.454 dev_acc:0.443\n",
      "8) train_loss: 1.607  dev_loss: 1.526 train_acc:0.503 dev_acc:0.492\n",
      "9) train_loss: 1.418  dev_loss: 1.341 train_acc:0.558 dev_acc:0.546\n",
      "10) train_loss: 1.241  dev_loss: 1.176 train_acc:0.654 dev_acc:0.637\n",
      "11) train_loss: 1.072  dev_loss: 1.025 train_acc:0.706 dev_acc:0.688\n",
      "12) train_loss: 0.938  dev_loss: 0.923 train_acc:0.738 dev_acc:0.722\n",
      "13) train_loss: 0.850  dev_loss: 0.851 train_acc:0.760 dev_acc:0.745\n",
      "14) train_loss: 0.784  dev_loss: 0.792 train_acc:0.781 dev_acc:0.767\n",
      "15) train_loss: 0.729  dev_loss: 0.741 train_acc:0.798 dev_acc:0.784\n",
      "16) train_loss: 0.683  dev_loss: 0.699 train_acc:0.811 dev_acc:0.797\n",
      "17) train_loss: 0.644  dev_loss: 0.662 train_acc:0.823 dev_acc:0.809\n",
      "18) train_loss: 0.610  dev_loss: 0.631 train_acc:0.833 dev_acc:0.820\n",
      "19) train_loss: 0.581  dev_loss: 0.604 train_acc:0.841 dev_acc:0.829\n",
      "20) train_loss: 0.556  dev_loss: 0.582 train_acc:0.847 dev_acc:0.835\n",
      "21) train_loss: 0.535  dev_loss: 0.564 train_acc:0.852 dev_acc:0.840\n",
      "22) train_loss: 0.516  dev_loss: 0.548 train_acc:0.856 dev_acc:0.844\n",
      "23) train_loss: 0.500  dev_loss: 0.533 train_acc:0.859 dev_acc:0.846\n",
      "24) train_loss: 0.486  dev_loss: 0.521 train_acc:0.862 dev_acc:0.849\n",
      "25) train_loss: 0.473  dev_loss: 0.510 train_acc:0.865 dev_acc:0.852\n",
      "26) train_loss: 0.461  dev_loss: 0.500 train_acc:0.868 dev_acc:0.855\n",
      "27) train_loss: 0.450  dev_loss: 0.490 train_acc:0.871 dev_acc:0.857\n",
      "28) train_loss: 0.439  dev_loss: 0.481 train_acc:0.873 dev_acc:0.859\n",
      "29) train_loss: 0.430  dev_loss: 0.473 train_acc:0.875 dev_acc:0.860\n",
      "30) train_loss: 0.421  dev_loss: 0.466 train_acc:0.877 dev_acc:0.863\n",
      "31) train_loss: 0.413  dev_loss: 0.459 train_acc:0.879 dev_acc:0.864\n",
      "32) train_loss: 0.405  dev_loss: 0.452 train_acc:0.882 dev_acc:0.866\n",
      "33) train_loss: 0.397  dev_loss: 0.446 train_acc:0.884 dev_acc:0.868\n",
      "34) train_loss: 0.391  dev_loss: 0.441 train_acc:0.886 dev_acc:0.869\n",
      "35) train_loss: 0.384  dev_loss: 0.435 train_acc:0.887 dev_acc:0.870\n",
      "36) train_loss: 0.379  dev_loss: 0.431 train_acc:0.889 dev_acc:0.871\n",
      "37) train_loss: 0.373  dev_loss: 0.426 train_acc:0.890 dev_acc:0.873\n",
      "38) train_loss: 0.368  dev_loss: 0.422 train_acc:0.892 dev_acc:0.874\n",
      "39) train_loss: 0.363  dev_loss: 0.418 train_acc:0.893 dev_acc:0.875\n",
      "40) train_loss: 0.359  dev_loss: 0.415 train_acc:0.894 dev_acc:0.875\n",
      "41) train_loss: 0.355  dev_loss: 0.411 train_acc:0.895 dev_acc:0.876\n",
      "42) train_loss: 0.351  dev_loss: 0.408 train_acc:0.896 dev_acc:0.877\n",
      "43) train_loss: 0.347  dev_loss: 0.405 train_acc:0.897 dev_acc:0.878\n",
      "44) train_loss: 0.344  dev_loss: 0.402 train_acc:0.898 dev_acc:0.878\n",
      "45) train_loss: 0.340  dev_loss: 0.400 train_acc:0.899 dev_acc:0.879\n",
      "46) train_loss: 0.337  dev_loss: 0.397 train_acc:0.899 dev_acc:0.880\n",
      "47) train_loss: 0.334  dev_loss: 0.395 train_acc:0.900 dev_acc:0.881\n",
      "48) train_loss: 0.331  dev_loss: 0.393 train_acc:0.901 dev_acc:0.881\n",
      "49) train_loss: 0.329  dev_loss: 0.390 train_acc:0.901 dev_acc:0.882\n",
      "50) train_loss: 0.326  dev_loss: 0.388 train_acc:0.902 dev_acc:0.883\n",
      "51) train_loss: 0.324  dev_loss: 0.387 train_acc:0.902 dev_acc:0.883\n",
      "52) train_loss: 0.321  dev_loss: 0.385 train_acc:0.903 dev_acc:0.883\n",
      "53) train_loss: 0.319  dev_loss: 0.383 train_acc:0.903 dev_acc:0.884\n",
      "54) train_loss: 0.317  dev_loss: 0.381 train_acc:0.904 dev_acc:0.884\n",
      "55) train_loss: 0.314  dev_loss: 0.380 train_acc:0.905 dev_acc:0.885\n",
      "56) train_loss: 0.312  dev_loss: 0.378 train_acc:0.905 dev_acc:0.885\n",
      "57) train_loss: 0.310  dev_loss: 0.377 train_acc:0.905 dev_acc:0.886\n",
      "58) train_loss: 0.308  dev_loss: 0.376 train_acc:0.906 dev_acc:0.886\n",
      "59) train_loss: 0.307  dev_loss: 0.374 train_acc:0.906 dev_acc:0.886\n",
      "60) train_loss: 0.305  dev_loss: 0.373 train_acc:0.907 dev_acc:0.887\n",
      "61) train_loss: 0.303  dev_loss: 0.372 train_acc:0.907 dev_acc:0.887\n",
      "62) train_loss: 0.301  dev_loss: 0.371 train_acc:0.908 dev_acc:0.887\n",
      "63) train_loss: 0.300  dev_loss: 0.370 train_acc:0.908 dev_acc:0.887\n",
      "64) train_loss: 0.298  dev_loss: 0.369 train_acc:0.909 dev_acc:0.888\n",
      "65) train_loss: 0.296  dev_loss: 0.368 train_acc:0.909 dev_acc:0.888\n",
      "66) train_loss: 0.295  dev_loss: 0.367 train_acc:0.910 dev_acc:0.888\n",
      "67) train_loss: 0.293  dev_loss: 0.366 train_acc:0.910 dev_acc:0.888\n",
      "68) train_loss: 0.292  dev_loss: 0.365 train_acc:0.910 dev_acc:0.888\n",
      "69) train_loss: 0.290  dev_loss: 0.364 train_acc:0.911 dev_acc:0.889\n",
      "70) train_loss: 0.289  dev_loss: 0.363 train_acc:0.911 dev_acc:0.889\n",
      "71) train_loss: 0.288  dev_loss: 0.362 train_acc:0.911 dev_acc:0.889\n",
      "72) train_loss: 0.286  dev_loss: 0.362 train_acc:0.912 dev_acc:0.889\n",
      "73) train_loss: 0.285  dev_loss: 0.361 train_acc:0.912 dev_acc:0.889\n",
      "74) train_loss: 0.284  dev_loss: 0.360 train_acc:0.912 dev_acc:0.889\n",
      "75) train_loss: 0.283  dev_loss: 0.360 train_acc:0.913 dev_acc:0.890\n",
      "76) train_loss: 0.281  dev_loss: 0.359 train_acc:0.913 dev_acc:0.890\n",
      "77) train_loss: 0.280  dev_loss: 0.358 train_acc:0.913 dev_acc:0.890\n",
      "78) train_loss: 0.279  dev_loss: 0.358 train_acc:0.914 dev_acc:0.890\n",
      "79) train_loss: 0.278  dev_loss: 0.357 train_acc:0.914 dev_acc:0.890\n",
      "80) train_loss: 0.277  dev_loss: 0.357 train_acc:0.914 dev_acc:0.891\n",
      "81) train_loss: 0.275  dev_loss: 0.356 train_acc:0.915 dev_acc:0.891\n",
      "82) train_loss: 0.274  dev_loss: 0.355 train_acc:0.915 dev_acc:0.891\n",
      "83) train_loss: 0.273  dev_loss: 0.355 train_acc:0.915 dev_acc:0.891\n",
      "84) train_loss: 0.272  dev_loss: 0.354 train_acc:0.915 dev_acc:0.891\n",
      "85) train_loss: 0.271  dev_loss: 0.354 train_acc:0.916 dev_acc:0.892\n",
      "86) train_loss: 0.270  dev_loss: 0.353 train_acc:0.916 dev_acc:0.892\n",
      "87) train_loss: 0.269  dev_loss: 0.353 train_acc:0.916 dev_acc:0.892\n",
      "88) train_loss: 0.268  dev_loss: 0.352 train_acc:0.917 dev_acc:0.892\n",
      "89) train_loss: 0.267  dev_loss: 0.352 train_acc:0.917 dev_acc:0.893\n",
      "90) train_loss: 0.266  dev_loss: 0.352 train_acc:0.917 dev_acc:0.892\n",
      "91) train_loss: 0.265  dev_loss: 0.351 train_acc:0.918 dev_acc:0.892\n",
      "92) train_loss: 0.264  dev_loss: 0.351 train_acc:0.918 dev_acc:0.893\n",
      "93) train_loss: 0.263  dev_loss: 0.350 train_acc:0.918 dev_acc:0.893\n",
      "94) train_loss: 0.262  dev_loss: 0.350 train_acc:0.919 dev_acc:0.893\n",
      "95) train_loss: 0.261  dev_loss: 0.350 train_acc:0.919 dev_acc:0.893\n",
      "96) train_loss: 0.260  dev_loss: 0.349 train_acc:0.919 dev_acc:0.894\n",
      "97) train_loss: 0.259  dev_loss: 0.349 train_acc:0.919 dev_acc:0.894\n",
      "98) train_loss: 0.258  dev_loss: 0.349 train_acc:0.920 dev_acc:0.894\n",
      "99) train_loss: 0.257  dev_loss: 0.348 train_acc:0.920 dev_acc:0.894\n",
      "100) train_loss: 0.257  dev_loss: 0.348 train_acc:0.920 dev_acc:0.894\n"
     ]
    }
   ],
   "source": [
    "tagger = Tagger(output_dim=len(en_pos_to_id)).to(device)\n",
    "loss_train, loss_dev, acc_train, acc_dev = train(tagger)"
   ]
  },
  {
   "cell_type": "code",
   "execution_count": 37,
   "id": "2b39eef2",
   "metadata": {},
   "outputs": [
    {
     "data": {
      "image/png": "[encoded data removed]",
      "text/plain": [
       "<Figure size 864x288 with 2 Axes>"
      ]
     },
     "metadata": {
      "needs_background": "light"
     },
     "output_type": "display_data"
    }
   ],
   "source": [
    "fig, axes = plt.subplots(1, 2, figsize=(12,4))\n",
    "\n",
    "axes[0].plot(torch.arange(len(loss_train)), loss_train, label=f\"train loss [min={min(loss_train):.3f}]\")\n",
    "axes[0].plot(torch.arange(len(loss_dev)), loss_dev, label=f\"dev loss [min={min(loss_dev):.3f}]\")\n",
    "axes[0].legend()\n",
    "axes[0].set_title(\"Tagger Learning Curve\")\n",
    "\n",
    "axes[1].plot(torch.arange(len(acc_train)), acc_train, label=f\"train acc [max={max(acc_train):.3f}]\")\n",
    "axes[1].plot(torch.arange(len(acc_dev)), acc_dev, label=f\"dev acc [max={max(acc_dev):.3f}]\")\n",
    "axes[1].legend()\n",
    "axes[1].set_title(\"Tagger Accuracy\")\n",
    "\n",
    "fig.suptitle(f\"Tagger [{len(tagger.lstms)} stack BiLSTM]\", fontsize=20, y=1.07)\n",
    "\n",
    "plt.show()"
   ]
  },
  {
   "cell_type": "code",
   "execution_count": 38,
   "id": "45d7fc83",
   "metadata": {},
   "outputs": [
    {
     "name": "stdout",
     "output_type": "stream",
     "text": [
      "Accuracy on the english test set = 0.901\n",
      "Accuracy on the english out of domain data = 0.897\n",
      "Accuracy on the french data = 0.036\n"
     ]
    }
   ],
   "source": [
    "acc_test = tagger.compute_accuracy(en_emb_table(en_x_test), en_y_test)\n",
    "acc_test_pud = tagger.compute_accuracy(en_emb_table(pud_x_test), pud_y_test)\n",
    "acc_test_fr = tagger.compute_accuracy(fr_emb_table(fr_x_test), fr_y_test)\n",
    "\n",
    "print(f'Accuracy on the english test set = {acc_test:.3f}')\n",
    "print(f'Accuracy on the english out of domain data = {acc_test_pud:.3f}')\n",
    "print(f'Accuracy on the french data = {acc_test_fr:.3f}')"
   ]
  },
  {
   "cell_type": "code",
   "execution_count": 57,
   "id": "82ed0e22",
   "metadata": {},
   "outputs": [],
   "source": [
    "class Evaluation:\n",
    "    def __init__(self, model, id_to_pos):\n",
    "        self.model = model\n",
    "        self.id_to_pos = id_to_pos\n",
    "\n",
    "    def evaluate(self, emb, labels):\n",
    "        y_gold = torch.cat([torch.tensor(y) for y in labels]).to(device)\n",
    "        y_pred = self.model.predict(emb)\n",
    "        for id, pos in self.id_to_pos.items():\n",
    "            precision, recall, f1 = self.get_scores(y_gold, y_pred, id)\n",
    "            print(f'[{pos}] precision={precision:.2f}, recall={recall:.2f}, f1={f1:.2f}')\n",
    "\n",
    "    def get_class_precision(self, y_gold, y_pred, tag_id):\n",
    "        y_gold_tag = (y_gold==tag_id).to(int)\n",
    "        y_pred_tag = (y_pred==tag_id).to(int)\n",
    "        precision = (y_gold_tag*y_pred_tag).sum() / y_pred_tag.sum()\n",
    "        return precision\n",
    "    \n",
    "    def get_class_recall(self, y_gold, y_pred, tag_id):\n",
    "        y_gold_tag = (y_gold==tag_id).to(int)\n",
    "        y_pred_tag = (y_pred==tag_id).to(int)\n",
    "        recall = (y_gold_tag*y_pred_tag).sum() / y_gold_tag.sum()\n",
    "        return recall\n",
    "\n",
    "    def get_f1_score(self, y_gold, y_pred, tag_id):\n",
    "        precision = self.get_class_precision(y_gold, y_pred, tag_id)\n",
    "        recall = self.get_class_recall(y_gold, y_pred, tag_id)\n",
    "        f1 = 2 * (precision*recall)/(precision+recall)\n",
    "        return f1\n",
    "    \n",
    "    def get_scores(self, y_gold, y_pred, tag_id):\n",
    "        precision = self.get_class_precision(y_gold, y_pred, tag_id)\n",
    "        recall = self.get_class_recall(y_gold, y_pred, tag_id)\n",
    "        f1 = self.get_f1_score(y_gold, y_pred, tag_id)\n",
    "        return precision, recall, f1\n",
    "\n",
    "evaluation = Evaluation(tagger, en_id_to_pos)"
   ]
  },
  {
   "cell_type": "code",
   "execution_count": 58,
   "id": "d23bf427",
   "metadata": {},
   "outputs": [
    {
     "name": "stdout",
     "output_type": "stream",
     "text": [
      "##### English test data #####\n",
      "[PROPN] precision=0.88, recall=0.77, f1=0.82\n",
      "[PUNCT] precision=0.94, recall=0.95, f1=0.94\n",
      "[ADJ] precision=0.89, recall=0.90, f1=0.90\n",
      "[NOUN] precision=0.89, recall=0.91, f1=0.90\n",
      "[VERB] precision=0.85, recall=0.90, f1=0.87\n",
      "[DET] precision=0.97, recall=0.95, f1=0.96\n",
      "[ADP] precision=0.92, recall=0.97, f1=0.95\n",
      "[AUX] precision=0.92, recall=0.91, f1=0.92\n",
      "[PRON] precision=0.95, recall=0.96, f1=0.95\n",
      "[PART] precision=0.93, recall=0.90, f1=0.92\n",
      "[SCONJ] precision=0.90, recall=0.75, f1=0.82\n",
      "[NUM] precision=0.61, recall=0.76, f1=0.68\n",
      "[ADV] precision=0.86, recall=0.86, f1=0.86\n",
      "[CCONJ] precision=1.00, recall=0.99, f1=0.99\n",
      "[X] precision=0.61, recall=0.10, f1=0.17\n",
      "[INTJ] precision=0.94, recall=0.68, f1=0.79\n",
      "[SYM] precision=0.66, recall=0.64, f1=0.65\n"
     ]
    }
   ],
   "source": [
    "print(\"##### English test data #####\")\n",
    "evaluation.evaluate(en_emb_table(en_x_test), en_y_test)"
   ]
  },
  {
   "cell_type": "code",
   "execution_count": 59,
   "id": "7730bc0e",
   "metadata": {},
   "outputs": [
    {
     "name": "stdout",
     "output_type": "stream",
     "text": [
      "### English out of domain data ###\n",
      "[PROPN] precision=0.82, recall=0.80, f1=0.81\n",
      "[PUNCT] precision=0.98, recall=0.96, f1=0.97\n",
      "[ADJ] precision=0.83, recall=0.89, f1=0.86\n",
      "[NOUN] precision=0.91, recall=0.89, f1=0.90\n",
      "[VERB] precision=0.84, recall=0.86, f1=0.85\n",
      "[DET] precision=0.97, recall=0.96, f1=0.97\n",
      "[ADP] precision=0.95, recall=0.97, f1=0.96\n",
      "[AUX] precision=0.94, recall=0.88, f1=0.91\n",
      "[PRON] precision=0.86, recall=0.91, f1=0.89\n",
      "[PART] precision=0.89, recall=0.91, f1=0.90\n",
      "[SCONJ] precision=0.62, recall=0.59, f1=0.60\n",
      "[NUM] precision=0.70, recall=0.82, f1=0.76\n",
      "[ADV] precision=0.88, recall=0.82, f1=0.85\n",
      "[CCONJ] precision=0.99, recall=0.98, f1=0.99\n",
      "[X] precision=0.00, recall=0.00, f1=nan\n",
      "[INTJ] precision=0.50, recall=1.00, f1=0.67\n",
      "[SYM] precision=0.87, recall=0.64, f1=0.74\n"
     ]
    }
   ],
   "source": [
    "print(\"### English out of domain data ###\")\n",
    "evaluation.evaluate(en_emb_table(pud_x_test), pud_y_test)"
   ]
  },
  {
   "cell_type": "code",
   "execution_count": 60,
   "id": "3ef6158f",
   "metadata": {},
   "outputs": [
    {
     "name": "stdout",
     "output_type": "stream",
     "text": [
      "### French Data ###\n",
      "[PROPN] precision=0.00, recall=0.00, f1=nan\n",
      "[PUNCT] precision=0.03, recall=0.02, f1=0.03\n",
      "[ADJ] precision=nan, recall=0.00, f1=nan\n",
      "[NOUN] precision=0.71, recall=0.00, f1=0.01\n",
      "[VERB] precision=0.14, recall=0.00, f1=0.00\n",
      "[DET] precision=0.00, recall=0.00, f1=nan\n",
      "[ADP] precision=0.19, recall=0.00, f1=0.00\n",
      "[AUX] precision=0.03, recall=0.01, f1=0.02\n",
      "[PRON] precision=0.10, recall=0.03, f1=0.05\n",
      "[PART] precision=0.00, recall=nan, f1=nan\n",
      "[SCONJ] precision=0.00, recall=0.00, f1=nan\n",
      "[NUM] precision=0.13, recall=0.25, f1=0.17\n",
      "[ADV] precision=nan, recall=0.00, f1=nan\n",
      "[CCONJ] precision=0.04, recall=0.99, f1=0.08\n",
      "[X] precision=0.00, recall=0.00, f1=nan\n",
      "[INTJ] precision=nan, recall=0.00, f1=nan\n",
      "[SYM] precision=0.00, recall=0.03, f1=0.00\n"
     ]
    }
   ],
   "source": [
    "print(\"### French Data ###\")\n",
    "evaluation.evaluate(fr_emb_table(fr_x_test), fr_y_test)"
   ]
  },
  {
   "attachments": {},
   "cell_type": "markdown",
   "id": "395c9f20",
   "metadata": {},
   "source": [
    "### One Stack BiLSTM Tagger"
   ]
  },
  {
   "cell_type": "code",
   "execution_count": 61,
   "id": "fcee9c33",
   "metadata": {},
   "outputs": [
    {
     "name": "stdout",
     "output_type": "stream",
     "text": [
      "1) train_loss: 2.761  dev_loss: 2.669 train_acc:0.175 dev_acc:0.167\n",
      "2) train_loss: 2.530  dev_loss: 2.413 train_acc:0.259 dev_acc:0.262\n",
      "3) train_loss: 2.283  dev_loss: 2.143 train_acc:0.386 dev_acc:0.383\n",
      "4) train_loss: 1.978  dev_loss: 1.838 train_acc:0.484 dev_acc:0.478\n",
      "5) train_loss: 1.706  dev_loss: 1.606 train_acc:0.536 dev_acc:0.530\n",
      "6) train_loss: 1.502  dev_loss: 1.425 train_acc:0.574 dev_acc:0.567\n",
      "7) train_loss: 1.341  dev_loss: 1.283 train_acc:0.618 dev_acc:0.609\n",
      "8) train_loss: 1.211  dev_loss: 1.166 train_acc:0.650 dev_acc:0.639\n",
      "9) train_loss: 1.101  dev_loss: 1.066 train_acc:0.672 dev_acc:0.662\n",
      "10) train_loss: 1.008  dev_loss: 0.983 train_acc:0.692 dev_acc:0.684\n",
      "11) train_loss: 0.929  dev_loss: 0.913 train_acc:0.719 dev_acc:0.709\n",
      "12) train_loss: 0.861  dev_loss: 0.851 train_acc:0.755 dev_acc:0.746\n",
      "13) train_loss: 0.801  dev_loss: 0.796 train_acc:0.773 dev_acc:0.766\n",
      "14) train_loss: 0.745  dev_loss: 0.741 train_acc:0.790 dev_acc:0.783\n",
      "15) train_loss: 0.690  dev_loss: 0.693 train_acc:0.804 dev_acc:0.796\n",
      "16) train_loss: 0.645  dev_loss: 0.655 train_acc:0.816 dev_acc:0.808\n",
      "17) train_loss: 0.610  dev_loss: 0.624 train_acc:0.826 dev_acc:0.817\n",
      "18) train_loss: 0.580  dev_loss: 0.599 train_acc:0.833 dev_acc:0.824\n",
      "19) train_loss: 0.556  dev_loss: 0.578 train_acc:0.839 dev_acc:0.829\n",
      "20) train_loss: 0.536  dev_loss: 0.560 train_acc:0.844 dev_acc:0.834\n",
      "21) train_loss: 0.518  dev_loss: 0.546 train_acc:0.848 dev_acc:0.837\n",
      "22) train_loss: 0.504  dev_loss: 0.533 train_acc:0.852 dev_acc:0.840\n",
      "23) train_loss: 0.491  dev_loss: 0.522 train_acc:0.855 dev_acc:0.843\n",
      "24) train_loss: 0.479  dev_loss: 0.512 train_acc:0.858 dev_acc:0.847\n",
      "25) train_loss: 0.469  dev_loss: 0.503 train_acc:0.862 dev_acc:0.849\n",
      "26) train_loss: 0.460  dev_loss: 0.495 train_acc:0.864 dev_acc:0.852\n",
      "27) train_loss: 0.451  dev_loss: 0.488 train_acc:0.866 dev_acc:0.854\n",
      "28) train_loss: 0.443  dev_loss: 0.481 train_acc:0.868 dev_acc:0.855\n",
      "29) train_loss: 0.436  dev_loss: 0.475 train_acc:0.871 dev_acc:0.857\n",
      "30) train_loss: 0.429  dev_loss: 0.469 train_acc:0.872 dev_acc:0.859\n",
      "31) train_loss: 0.422  dev_loss: 0.463 train_acc:0.874 dev_acc:0.861\n",
      "32) train_loss: 0.416  dev_loss: 0.458 train_acc:0.875 dev_acc:0.862\n",
      "33) train_loss: 0.411  dev_loss: 0.453 train_acc:0.876 dev_acc:0.863\n",
      "34) train_loss: 0.405  dev_loss: 0.448 train_acc:0.877 dev_acc:0.864\n",
      "35) train_loss: 0.400  dev_loss: 0.444 train_acc:0.878 dev_acc:0.865\n",
      "36) train_loss: 0.395  dev_loss: 0.440 train_acc:0.879 dev_acc:0.866\n",
      "37) train_loss: 0.390  dev_loss: 0.436 train_acc:0.880 dev_acc:0.867\n",
      "38) train_loss: 0.386  dev_loss: 0.432 train_acc:0.881 dev_acc:0.868\n",
      "39) train_loss: 0.382  dev_loss: 0.429 train_acc:0.882 dev_acc:0.869\n",
      "40) train_loss: 0.378  dev_loss: 0.425 train_acc:0.884 dev_acc:0.869\n",
      "41) train_loss: 0.374  dev_loss: 0.422 train_acc:0.885 dev_acc:0.870\n",
      "42) train_loss: 0.370  dev_loss: 0.419 train_acc:0.886 dev_acc:0.871\n",
      "43) train_loss: 0.366  dev_loss: 0.416 train_acc:0.887 dev_acc:0.872\n",
      "44) train_loss: 0.363  dev_loss: 0.413 train_acc:0.888 dev_acc:0.873\n",
      "45) train_loss: 0.360  dev_loss: 0.411 train_acc:0.889 dev_acc:0.873\n",
      "46) train_loss: 0.356  dev_loss: 0.408 train_acc:0.890 dev_acc:0.874\n",
      "47) train_loss: 0.353  dev_loss: 0.405 train_acc:0.891 dev_acc:0.874\n",
      "48) train_loss: 0.350  dev_loss: 0.403 train_acc:0.892 dev_acc:0.875\n",
      "49) train_loss: 0.347  dev_loss: 0.401 train_acc:0.892 dev_acc:0.876\n",
      "50) train_loss: 0.345  dev_loss: 0.398 train_acc:0.893 dev_acc:0.876\n",
      "51) train_loss: 0.342  dev_loss: 0.396 train_acc:0.894 dev_acc:0.877\n",
      "52) train_loss: 0.339  dev_loss: 0.394 train_acc:0.895 dev_acc:0.878\n",
      "53) train_loss: 0.337  dev_loss: 0.392 train_acc:0.896 dev_acc:0.878\n",
      "54) train_loss: 0.334  dev_loss: 0.390 train_acc:0.896 dev_acc:0.879\n",
      "55) train_loss: 0.332  dev_loss: 0.388 train_acc:0.897 dev_acc:0.879\n",
      "56) train_loss: 0.329  dev_loss: 0.386 train_acc:0.898 dev_acc:0.880\n",
      "57) train_loss: 0.327  dev_loss: 0.384 train_acc:0.898 dev_acc:0.880\n",
      "58) train_loss: 0.325  dev_loss: 0.383 train_acc:0.899 dev_acc:0.880\n",
      "59) train_loss: 0.323  dev_loss: 0.381 train_acc:0.899 dev_acc:0.880\n",
      "60) train_loss: 0.321  dev_loss: 0.379 train_acc:0.900 dev_acc:0.881\n",
      "61) train_loss: 0.319  dev_loss: 0.378 train_acc:0.901 dev_acc:0.881\n",
      "62) train_loss: 0.317  dev_loss: 0.376 train_acc:0.901 dev_acc:0.882\n",
      "63) train_loss: 0.315  dev_loss: 0.375 train_acc:0.902 dev_acc:0.882\n",
      "64) train_loss: 0.313  dev_loss: 0.373 train_acc:0.902 dev_acc:0.882\n",
      "65) train_loss: 0.311  dev_loss: 0.372 train_acc:0.902 dev_acc:0.883\n",
      "66) train_loss: 0.309  dev_loss: 0.370 train_acc:0.903 dev_acc:0.883\n",
      "67) train_loss: 0.308  dev_loss: 0.369 train_acc:0.903 dev_acc:0.884\n",
      "68) train_loss: 0.306  dev_loss: 0.368 train_acc:0.904 dev_acc:0.884\n",
      "69) train_loss: 0.304  dev_loss: 0.367 train_acc:0.904 dev_acc:0.884\n",
      "70) train_loss: 0.303  dev_loss: 0.366 train_acc:0.905 dev_acc:0.885\n",
      "71) train_loss: 0.301  dev_loss: 0.365 train_acc:0.905 dev_acc:0.885\n",
      "72) train_loss: 0.300  dev_loss: 0.364 train_acc:0.905 dev_acc:0.885\n",
      "73) train_loss: 0.298  dev_loss: 0.363 train_acc:0.906 dev_acc:0.885\n",
      "74) train_loss: 0.297  dev_loss: 0.362 train_acc:0.906 dev_acc:0.886\n",
      "75) train_loss: 0.295  dev_loss: 0.361 train_acc:0.907 dev_acc:0.886\n",
      "76) train_loss: 0.294  dev_loss: 0.360 train_acc:0.907 dev_acc:0.886\n",
      "77) train_loss: 0.293  dev_loss: 0.359 train_acc:0.907 dev_acc:0.887\n",
      "78) train_loss: 0.291  dev_loss: 0.358 train_acc:0.908 dev_acc:0.887\n",
      "79) train_loss: 0.290  dev_loss: 0.357 train_acc:0.908 dev_acc:0.887\n",
      "80) train_loss: 0.289  dev_loss: 0.357 train_acc:0.908 dev_acc:0.887\n",
      "81) train_loss: 0.288  dev_loss: 0.356 train_acc:0.909 dev_acc:0.888\n",
      "82) train_loss: 0.286  dev_loss: 0.355 train_acc:0.909 dev_acc:0.888\n",
      "83) train_loss: 0.285  dev_loss: 0.355 train_acc:0.909 dev_acc:0.888\n",
      "84) train_loss: 0.284  dev_loss: 0.354 train_acc:0.910 dev_acc:0.888\n",
      "85) train_loss: 0.283  dev_loss: 0.354 train_acc:0.910 dev_acc:0.889\n",
      "86) train_loss: 0.282  dev_loss: 0.353 train_acc:0.910 dev_acc:0.889\n",
      "87) train_loss: 0.281  dev_loss: 0.352 train_acc:0.911 dev_acc:0.890\n",
      "88) train_loss: 0.280  dev_loss: 0.352 train_acc:0.911 dev_acc:0.890\n",
      "89) train_loss: 0.279  dev_loss: 0.351 train_acc:0.911 dev_acc:0.890\n",
      "90) train_loss: 0.278  dev_loss: 0.351 train_acc:0.912 dev_acc:0.890\n",
      "91) train_loss: 0.277  dev_loss: 0.350 train_acc:0.912 dev_acc:0.890\n",
      "92) train_loss: 0.276  dev_loss: 0.350 train_acc:0.912 dev_acc:0.890\n",
      "93) train_loss: 0.275  dev_loss: 0.349 train_acc:0.913 dev_acc:0.890\n",
      "94) train_loss: 0.274  dev_loss: 0.349 train_acc:0.913 dev_acc:0.891\n",
      "95) train_loss: 0.273  dev_loss: 0.348 train_acc:0.913 dev_acc:0.891\n",
      "96) train_loss: 0.272  dev_loss: 0.348 train_acc:0.914 dev_acc:0.891\n",
      "97) train_loss: 0.271  dev_loss: 0.348 train_acc:0.914 dev_acc:0.891\n",
      "98) train_loss: 0.270  dev_loss: 0.347 train_acc:0.914 dev_acc:0.891\n",
      "99) train_loss: 0.269  dev_loss: 0.347 train_acc:0.914 dev_acc:0.892\n",
      "100) train_loss: 0.268  dev_loss: 0.346 train_acc:0.915 dev_acc:0.892\n"
     ]
    }
   ],
   "source": [
    "tagger_one_stack = Tagger(output_dim=len(en_pos_to_id), stack_size=1).to(device)\n",
    "loss_train_one_stack, loss_dev_one_stack, acc_train_one_stack, acc_dev_one_stack = train(tagger_one_stack)"
   ]
  },
  {
   "cell_type": "code",
   "execution_count": 62,
   "id": "88e170b9",
   "metadata": {},
   "outputs": [
    {
     "data": {
      "image/png": "[encoded data removed]",
      "text/plain": [
       "<Figure size 864x288 with 2 Axes>"
      ]
     },
     "metadata": {
      "needs_background": "light"
     },
     "output_type": "display_data"
    }
   ],
   "source": [
    "fig, axes = plt.subplots(1, 2, figsize=(12,4))\n",
    "\n",
    "axes[0].plot(torch.arange(len(loss_train_one_stack)), loss_train_one_stack, label=f\"train loss [min={min(loss_train_one_stack):.3f}]\")\n",
    "axes[0].plot(torch.arange(len(loss_dev_one_stack)), loss_dev_one_stack, label=f\"dev loss [min={min(loss_dev_one_stack):.3f}]\")\n",
    "axes[0].legend()\n",
    "axes[0].set_title(\"Tagger Learning Curve\")\n",
    "\n",
    "axes[1].plot(torch.arange(len(acc_train_one_stack)), acc_train_one_stack, label=f\"train acc [max={max(acc_train_one_stack):.3f}]\")\n",
    "axes[1].plot(torch.arange(len(acc_dev_one_stack)), acc_dev_one_stack, label=f\"dev acc [max={max(acc_dev_one_stack):.3f}]\")\n",
    "axes[1].legend()\n",
    "axes[1].set_title(\"Tagger Accuracy\")\n",
    "\n",
    "fig.suptitle(f\"Tagger [{len(tagger_one_stack.lstms)} stack BiLSTM]\", fontsize=20, y=1.07)\n",
    "\n",
    "plt.show()"
   ]
  },
  {
   "cell_type": "code",
   "execution_count": 63,
   "id": "5c26289d",
   "metadata": {},
   "outputs": [
    {
     "name": "stdout",
     "output_type": "stream",
     "text": [
      "Accuracy on the english test set = 0.898\n",
      "Accuracy on the english out of domain data = 0.894\n",
      "Accuracy on the french data = 0.200\n"
     ]
    }
   ],
   "source": [
    "acc_test_one_stack = tagger_one_stack.compute_accuracy(en_emb_table(en_x_test), en_y_test)\n",
    "acc_test_pud_one_stack = tagger_one_stack.compute_accuracy(en_emb_table(pud_x_test), pud_y_test)\n",
    "acc_test_fr_one_stack = tagger_one_stack.compute_accuracy(fr_emb_table(fr_x_test), fr_y_test)\n",
    "\n",
    "print(f'Accuracy on the english test set = {acc_test_one_stack:.3f}')\n",
    "print(f'Accuracy on the english out of domain data = {acc_test_pud_one_stack:.3f}')\n",
    "print(f'Accuracy on the french data = {acc_test_fr_one_stack:.3f}')"
   ]
  },
  {
   "cell_type": "code",
   "execution_count": 64,
   "id": "a9ed8244",
   "metadata": {},
   "outputs": [],
   "source": [
    "evaluation = Evaluation(tagger_one_stack, en_id_to_pos)"
   ]
  },
  {
   "cell_type": "code",
   "execution_count": 65,
   "id": "bbb1235a",
   "metadata": {},
   "outputs": [
    {
     "name": "stdout",
     "output_type": "stream",
     "text": [
      "##### English test data #####\n",
      "[PROPN] precision=0.87, recall=0.76, f1=0.81\n",
      "[PUNCT] precision=0.93, recall=0.96, f1=0.94\n",
      "[ADJ] precision=0.88, recall=0.89, f1=0.89\n",
      "[NOUN] precision=0.88, recall=0.90, f1=0.89\n",
      "[VERB] precision=0.86, recall=0.89, f1=0.87\n",
      "[DET] precision=0.97, recall=0.96, f1=0.96\n",
      "[ADP] precision=0.92, recall=0.96, f1=0.94\n",
      "[AUX] precision=0.92, recall=0.90, f1=0.91\n",
      "[PRON] precision=0.94, recall=0.96, f1=0.95\n",
      "[PART] precision=0.92, recall=0.90, f1=0.91\n",
      "[SCONJ] precision=0.90, recall=0.71, f1=0.79\n",
      "[NUM] precision=0.63, recall=0.78, f1=0.70\n",
      "[ADV] precision=0.87, recall=0.86, f1=0.87\n",
      "[CCONJ] precision=1.00, recall=0.99, f1=0.99\n",
      "[X] precision=0.67, recall=0.10, f1=0.18\n",
      "[INTJ] precision=0.94, recall=0.73, f1=0.82\n",
      "[SYM] precision=0.73, recall=0.62, f1=0.67\n"
     ]
    }
   ],
   "source": [
    "print(\"##### English test data #####\")\n",
    "evaluation.evaluate(en_emb_table(en_x_test), en_y_test)"
   ]
  },
  {
   "cell_type": "code",
   "execution_count": 68,
   "id": "efe1cb17",
   "metadata": {},
   "outputs": [
    {
     "name": "stdout",
     "output_type": "stream",
     "text": [
      "### English out of domain data ###\n",
      "[PROPN] precision=0.82, recall=0.80, f1=0.81\n",
      "[PUNCT] precision=0.97, recall=0.96, f1=0.97\n",
      "[ADJ] precision=0.82, recall=0.89, f1=0.85\n",
      "[NOUN] precision=0.91, recall=0.89, f1=0.90\n",
      "[VERB] precision=0.84, recall=0.84, f1=0.84\n",
      "[DET] precision=0.98, recall=0.96, f1=0.97\n",
      "[ADP] precision=0.95, recall=0.97, f1=0.96\n",
      "[AUX] precision=0.92, recall=0.88, f1=0.90\n",
      "[PRON] precision=0.84, recall=0.92, f1=0.88\n",
      "[PART] precision=0.88, recall=0.89, f1=0.88\n",
      "[SCONJ] precision=0.64, recall=0.54, f1=0.59\n",
      "[NUM] precision=0.72, recall=0.81, f1=0.76\n",
      "[ADV] precision=0.84, recall=0.79, f1=0.82\n",
      "[CCONJ] precision=0.99, recall=0.99, f1=0.99\n",
      "[X] precision=nan, recall=0.00, f1=nan\n",
      "[INTJ] precision=0.33, recall=1.00, f1=0.50\n",
      "[SYM] precision=0.84, recall=0.64, f1=0.73\n"
     ]
    }
   ],
   "source": [
    "print(\"### English out of domain data ###\")\n",
    "evaluation.evaluate(en_emb_table(pud_x_test), pud_y_test)"
   ]
  },
  {
   "cell_type": "code",
   "execution_count": 67,
   "id": "a56b1f60",
   "metadata": {},
   "outputs": [
    {
     "name": "stdout",
     "output_type": "stream",
     "text": [
      "### French Data ###\n",
      "[PROPN] precision=0.20, recall=0.00, f1=0.00\n",
      "[PUNCT] precision=0.39, recall=0.55, f1=0.46\n",
      "[ADJ] precision=1.00, recall=0.00, f1=0.00\n",
      "[NOUN] precision=0.21, recall=0.09, f1=0.13\n",
      "[VERB] precision=0.40, recall=0.18, f1=0.25\n",
      "[DET] precision=0.20, recall=0.20, f1=0.20\n",
      "[ADP] precision=0.31, recall=0.05, f1=0.09\n",
      "[AUX] precision=0.55, recall=0.29, f1=0.38\n",
      "[PRON] precision=0.11, recall=0.38, f1=0.17\n",
      "[PART] precision=0.00, recall=nan, f1=nan\n",
      "[SCONJ] precision=0.04, recall=0.47, f1=0.07\n",
      "[NUM] precision=0.14, recall=0.42, f1=0.21\n",
      "[ADV] precision=nan, recall=0.00, f1=nan\n",
      "[CCONJ] precision=0.27, recall=0.78, f1=0.40\n",
      "[X] precision=nan, recall=0.00, f1=nan\n",
      "[INTJ] precision=0.00, recall=0.00, f1=nan\n",
      "[SYM] precision=0.32, recall=0.18, f1=0.23\n"
     ]
    }
   ],
   "source": [
    "print(\"### French Data ###\")\n",
    "evaluation.evaluate(fr_emb_table(fr_x_test), fr_y_test)"
   ]
  }
 ],
 "metadata": {
  "kernelspec": {
   "display_name": "Python 3.10.4 64-bit",
   "language": "python",
   "name": "python3"
  },
  "language_info": {
   "codemirror_mode": {
    "name": "ipython",
    "version": 3
   },
   "file_extension": ".py",
   "mimetype": "text/x-python",
   "name": "python",
   "nbconvert_exporter": "python",
   "pygments_lexer": "ipython3",
   "version": "3.10.4 (tags/v3.10.4:9d38120, Mar 23 2022, 23:13:41) [MSC v.1929 64 bit (AMD64)]"
  },
  "vscode": {
   "interpreter": {
    "hash": "33184612fe23ea789693bd8266f7c5cf5860109e6e433b1efdda378c5f430ce8"
   }
  }
 },
 "nbformat": 4,
 "nbformat_minor": 5
}
