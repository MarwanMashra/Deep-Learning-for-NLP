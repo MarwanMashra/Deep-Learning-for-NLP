{
 "cells": [
  {
   "cell_type": "markdown",
   "metadata": {
    "cell_id": "fd1f4a52d9724fc6950e63437c11f0ac",
    "deepnote_cell_type": "markdown"
   },
   "source": [
    "# 🧑‍🎓 Students:\n",
    "\n",
    "- Diyun LU\n",
    "- Marwan MASHRA\n",
    "- Yihan ZHONG"
   ]
  },
  {
   "cell_type": "code",
   "execution_count": 1,
   "metadata": {},
   "outputs": [],
   "source": [
    "import torch\n",
    "import torch.nn as nn\n",
    "import torch.nn.functional as F\n",
    "import random, os, math\n",
    "import matplotlib.pyplot as plt \n",
    "from torch import optim\n",
    "\n",
    "device = torch.device('cuda' if torch.cuda.is_available() else 'cpu')"
   ]
  },
  {
   "cell_type": "code",
   "execution_count": 2,
   "metadata": {},
   "outputs": [],
   "source": [
    "# [IGNORE THIS] Adam16: this is just to be able to use half precision for the weights of the LSTM model and make it faster, Adam16 helps avoiding the nan loss\n",
    "class Adam16(torch.optim.Optimizer):\n",
    "\n",
    "    def __init__(self, params, lr=1e-3, betas=(0.9, 0.999), eps=1e-8,\n",
    "                 weight_decay=0):\n",
    "        defaults = dict(lr=lr, betas=betas, eps=eps,\n",
    "                        weight_decay=weight_decay)\n",
    "        params = list(params)\n",
    "        super(Adam16, self).__init__(params, defaults)\n",
    "        # for group in self.param_groups:\n",
    "            # for p in group['params']:\n",
    "        \n",
    "        self.fp32_param_groups = [p.data.float().cuda() for p in params]\n",
    "        if not isinstance(self.fp32_param_groups[0], dict):\n",
    "            self.fp32_param_groups = [{'params': self.fp32_param_groups}]\n",
    "\n",
    "    def step(self, closure=None):\n",
    "        \"\"\"Performs a single optimization step.\n",
    "        Arguments:\n",
    "            closure (callable, optional): A closure that reevaluates the model\n",
    "                and returns the loss.\n",
    "        \"\"\"\n",
    "        loss = None\n",
    "        if closure is not None:\n",
    "            loss = closure()\n",
    "\n",
    "        for group,fp32_group in zip(self.param_groups,self.fp32_param_groups):\n",
    "            for p,fp32_p in zip(group['params'],fp32_group['params']):\n",
    "                if p.grad is None:\n",
    "                    continue\n",
    "                    \n",
    "                grad = p.grad.data.float()\n",
    "                state = self.state[p]\n",
    "\n",
    "                # State initialization\n",
    "                if len(state) == 0:\n",
    "                    state['step'] = 0\n",
    "                    # Exponential moving average of gradient values\n",
    "                    state['exp_avg'] = grad.new().resize_as_(grad).zero_()\n",
    "                    # Exponential moving average of squared gradient values\n",
    "                    state['exp_avg_sq'] = grad.new().resize_as_(grad).zero_()\n",
    "\n",
    "                exp_avg, exp_avg_sq = state['exp_avg'], state['exp_avg_sq']\n",
    "                beta1, beta2 = group['betas']\n",
    "\n",
    "                state['step'] += 1\n",
    "\n",
    "                if group['weight_decay'] != 0:\n",
    "                    grad = grad.add(group['weight_decay'], fp32_p)\n",
    "\n",
    "                # Decay the first and second moment running average coefficient\n",
    "                exp_avg.mul_(beta1).add_(grad, alpha=1 - beta1)\n",
    "                exp_avg_sq.mul_(beta2).addcmul_(grad, grad, value=1 - beta2)\n",
    "\n",
    "                denom = exp_avg_sq.sqrt().add_(group['eps'])\n",
    "\n",
    "                bias_correction1 = 1 - beta1 ** state['step']\n",
    "                bias_correction2 = 1 - beta2 ** state['step']\n",
    "                step_size = group['lr'] * math.sqrt(bias_correction2) / bias_correction1\n",
    "            \n",
    "                # print(type(fp32_p))\n",
    "                fp32_p.addcdiv_(exp_avg, denom, value=-step_size)\n",
    "                p.data = fp32_p.half()\n",
    "\n",
    "        return loss"
   ]
  },
  {
   "cell_type": "markdown",
   "metadata": {},
   "source": [
    "# Lab exercise: neural language modeling\n",
    "\n",
    "The goal of this lab exercise is build two neural language models:\n",
    "- a neural n-gram model based on a simple MLP\n",
    "- an autoregressive model based on a LSTM\n",
    "\n",
    "Although the n-gram model is straighforward to code, there are a few \"tricks\" that you need to implement for the autoregressive model:\n",
    "- word dropout\n",
    "- variational dropout\n",
    "- loss function masking\n",
    "\n",
    "## Variational dropout\n",
    "\n",
    "The idea of variational dropout is to apply the same mask at each position for a given sentence (if there are several sentences in a minibatch, use different masks for each input).\n",
    "The idea is as follows:\n",
    "- assume a sentence of n words whose embeddings are e_1, e_2, ... e_n\n",
    "- at the input of the LSTM, instead of apply dropout independently to each embedding, sample a single mask that will be applied similarly at each position\n",
    "- same at the output of the LSTM\n",
    "\n",
    "See Figure 1 of this paper: https://proceedings.neurips.cc/paper/2016/file/076a0c97d09cf1a0ec3e19c7f2529f2b-Paper.pdf\n",
    "\n",
    "To implement this, you need to build a custom module that applies the dropout only if the network is in training mode."
   ]
  },
  {
   "cell_type": "markdown",
   "metadata": {},
   "source": [
    "## Data preprocessing\n",
    "\n",
    "You first need to download the Penn Treebank as pre-processed by Tomas Mikolov. It is available here: https://github.com/townie/PTB-dataset-from-Tomas-Mikolov-s-webpage/tree/master/data\n",
    "We will use the following files:\n",
    "- ptb.train.txt\n",
    "- ptb.valid.txt\n",
    "- ptb.test.txt\n",
    "\n",
    "Check manually the data.\n",
    "\n",
    "Todo:\n",
    "- build a word dictionnary, i.e. a bijective mapping between words and integers. You will need to add a special token \"\\<BOS\\>\" to the dictionnary even if it doesn't appear in sentences. (if you want to generate data, you will also need a \"\\<EOS\\>\" token, but this is not a requirement for this lab exercise --- you can do this at the end if you want)\n",
    "- build python list of integers representing each input. For example, for the sentence \"I sleep\", the tensor could look like [10, 5] if 10 is the integer associated with \"I\" and 5 the integer associated with \"sleep\". You can add this directly to the dictionnaries in \\*\\_data"
   ]
  },
  {
   "cell_type": "code",
   "execution_count": 3,
   "metadata": {},
   "outputs": [],
   "source": [
    "def read_file(path):\n",
    "    data = list()\n",
    "    with open(path) as inf:\n",
    "        for line in inf:\n",
    "            line = line.strip()\n",
    "            if len(line) == 0:\n",
    "                continue\n",
    "            data.append({\"text\": line.split()})\n",
    "    return data"
   ]
  },
  {
   "cell_type": "code",
   "execution_count": 4,
   "metadata": {},
   "outputs": [],
   "source": [
    "train_data = read_file(\"data/ptb.train.txt\")\n",
    "dev_data = read_file(\"data/ptb.valid.txt\")\n",
    "test_data = read_file(\"data/ptb.test.txt\")"
   ]
  },
  {
   "cell_type": "code",
   "execution_count": 5,
   "metadata": {},
   "outputs": [
    {
     "name": "stdout",
     "output_type": "stream",
     "text": [
      "42068 3370 3761\n",
      "aer banknote berlitz calloway centrust cluett fromstein gitano guterman hydro-quebec ipo kia memotec mlx nahb punts rake regatta rubens sim snack-food ssangyong swapo wachter\n",
      "\n",
      "pierre <unk> N years old will join the board as a nonexecutive director nov. N\n",
      "\n",
      "mr. <unk> is chairman of <unk> n.v. the dutch publishing group\n",
      "\n",
      "rudolph <unk> N years old and former chairman of consolidated gold fields plc was named a nonexecutive director of this british industrial conglomerate\n",
      "\n",
      "a form of asbestos once used to make kent cigarette filters has caused a high percentage of cancer deaths among a group of workers exposed to it more than N years ago researchers reported\n"
     ]
    }
   ],
   "source": [
    "print(len(train_data), len(dev_data), len(test_data))\n",
    "print(\"\\n\\n\".join(\" \".join(s[\"text\"]) for s in train_data[:5]))"
   ]
  },
  {
   "cell_type": "code",
   "execution_count": 6,
   "metadata": {},
   "outputs": [],
   "source": [
    "class WordDict:\n",
    "    # constructor, words must be a set containing all words\n",
    "    def __init__(self, words):\n",
    "        assert type(words) == set\n",
    "        self.words_dict = dict(zip(words, range(len(words))))\n",
    "        self.index_dict = dict(zip(self.words_dict.values(),self.words_dict.keys()))\n",
    "\n",
    "    # return the integer associated with a word\n",
    "    def word_to_id(self, word):\n",
    "        assert type(word) == str\n",
    "        return self.words_dict[word] if word in self.words_dict else self.words_dict[\"<unk>\"]\n",
    "    \n",
    "    # return the word associated with an integer\n",
    "    def id_to_word(self, idx):\n",
    "        assert type(idx) == int\n",
    "        return self.index_dict[idx] if idx in self.index_dict else \"<unk>\"\n",
    "    \n",
    "    # number of word in the dictionnary\n",
    "    def __len__(self):\n",
    "        return len(self.words_dict)"
   ]
  },
  {
   "cell_type": "code",
   "execution_count": 7,
   "metadata": {},
   "outputs": [
    {
     "data": {
      "text/plain": [
       "10001"
      ]
     },
     "execution_count": 7,
     "metadata": {},
     "output_type": "execute_result"
    }
   ],
   "source": [
    "train_words = set()\n",
    "for sentence in train_data:\n",
    "    train_words.update(sentence[\"text\"])\n",
    "train_words.update([\"<bos>\", \"<eos>, <unk>\"])\n",
    "word_dict = WordDict(train_words)\n",
    "len(word_dict)  # should be 10001"
   ]
  },
  {
   "cell_type": "code",
   "execution_count": 8,
   "metadata": {},
   "outputs": [
    {
     "name": "stdout",
     "output_type": "stream",
     "text": [
      "[6844, 5826, 7938, 3540, 3619, 6368, 7916, 2806, 3361, 7865, 1097, 6162, 6090, 621, 1234, 3131, 5735, 8575, 7823, 5734, 4262, 5502, 9819, 4314]\n"
     ]
    }
   ],
   "source": [
    "sentence_to_id = lambda sentence: list(map(word_dict.word_to_id, sentence)) \n",
    "process_data = lambda data: list(map(sentence_to_id, [sentence['text'] for sentence in data] )) \n",
    "train_data_idx = process_data(train_data)\n",
    "dev_data_idx = process_data(dev_data)\n",
    "test_data_idx = process_data(test_data)\n",
    "\n",
    "print(train_data_idx[0])"
   ]
  },
  {
   "cell_type": "markdown",
   "metadata": {},
   "source": [
    "## Evaluation\n",
    "\n",
    "For evaluation, you must compute the perplexity of the test dataset (i.e. assume the dataset is one very long sentence), see:\n",
    "https://lena-voita.github.io/nlp_course/language_modeling.html#evaluation\n",
    "\n",
    "Note that you don't need to explicitly compute the root, you can use log probabilities and properties of log functions for this.\n",
    "As during evaluation, you will see sentences one after the other, you can code a small class to keep track of log probabilities of words and compute the global perplexity at the end."
   ]
  },
  {
   "cell_type": "code",
   "execution_count": 9,
   "metadata": {},
   "outputs": [],
   "source": [
    "class Perplexity:\n",
    "    def __init__(self):\n",
    "        self.log_probs = torch.tensor([]).to(device)\n",
    "\n",
    "\n",
    "    def reset(self):\n",
    "        self.log_probs = torch.tensor([]).to(device)\n",
    "\n",
    "    def add_sentence(self, log_probs):\n",
    "        # log_probs: vector of log probabilities of words in a sentence\n",
    "        self.log_probs = torch.cat([self.log_probs, log_probs])\n",
    "\n",
    "    def compute_perplexity(self):\n",
    "        return 2**((-1/self.log_probs.size(0))*self.log_probs.sum())\n"
   ]
  },
  {
   "cell_type": "markdown",
   "metadata": {},
   "source": [
    "## Neural n-gram model\n",
    "\n",
    "The model must be similar to the one presented in the course notes.\n",
    "Note that for training and testing, you can transform the data has a set of multiclass classification problems.\n",
    "\n",
    "Todo:\n",
    "1. transform the data into tensors --- note that you can decompose your data to have input tensors of shape 2 and a unique output, why ? You will need to pad the sentence with \\<BOS\\> tokens --- why do you need two before the first word?\n",
    "2. train the network\n",
    "3. compute perplexity of the test data"
   ]
  },
  {
   "cell_type": "code",
   "execution_count": 10,
   "metadata": {},
   "outputs": [
    {
     "data": {
      "text/plain": [
       "tensor([[6173, 6173],\n",
       "        [6173, 7046],\n",
       "        [7046, 2773],\n",
       "        ...,\n",
       "        [5196, 1682],\n",
       "        [1682, 2308],\n",
       "        [2308, 1469]], device='cuda:0')"
      ]
     },
     "execution_count": 10,
     "metadata": {},
     "output_type": "execute_result"
    }
   ],
   "source": [
    "def create_ngrams(data, n=3):\n",
    "    n -= 1\n",
    "    bos_id = word_dict.word_to_id('<bos>')\n",
    "    eos_id = word_dict.word_to_id('<eos>')\n",
    "    x_array, y_array = [], []\n",
    "    for sentence in data:\n",
    "        sentence = [bos_id]*n + sentence\n",
    "        for i in range(len(sentence)-n):\n",
    "            x_array.append(sentence[i:i+n])\n",
    "        y_array.extend(sentence[n:])\n",
    "    x_tensor = torch.LongTensor(x_array)\n",
    "    y_tensor = torch.LongTensor(y_array)\n",
    "    return x_tensor, y_tensor\n",
    "\n",
    "x_train, y_train = create_ngrams(train_data_idx, n=3)\n",
    "x_dev, y_dev = create_ngrams(dev_data_idx, n=3)\n",
    "x_test, y_test = create_ngrams(test_data_idx, n=3)\n",
    "\n",
    "x_train = x_train.to(device)\n",
    "y_train = y_train.to(device)\n",
    "x_dev = x_dev.to(device)\n",
    "y_dev = y_dev.to(device)\n",
    "x_test = x_test.to(device)\n",
    "y_test = y_test.to(device)\n",
    "\n",
    "x_train"
   ]
  },
  {
   "cell_type": "code",
   "execution_count": 69,
   "metadata": {},
   "outputs": [
    {
     "name": "stdout",
     "output_type": "stream",
     "text": [
      "tensor([2162, 7803, 8322, 8970, 8989], device='cuda:0')\n",
      "perplexity on x_train : 595.204\n"
     ]
    },
    {
     "data": {
      "text/plain": [
       "tensor(595.2043, device='cuda:0')"
      ]
     },
     "execution_count": 69,
     "metadata": {},
     "output_type": "execute_result"
    }
   ],
   "source": [
    "class nGramModel(nn.Module):\n",
    "    def __init__(self, vocab_size, embedding_dim, hidden_dim=10, context_size=2):\n",
    "        super(nGramModel, self).__init__()\n",
    "        # To create an embedding table: https://pytorch.org/docs/stable/nn.html#torch.nn.Embedding\n",
    "        self.vocab_size = vocab_size\n",
    "        self.embedding_dim = embedding_dim\n",
    "        self.context_size = context_size\n",
    "        self.hidden_dim = hidden_dim\n",
    "        self.emb_table = nn.Embedding(self.vocab_size, self.embedding_dim)\n",
    "        self.mlp = nn.Sequential(\n",
    "            nn.Linear(self.embedding_dim *\n",
    "                      self.context_size, self.hidden_dim),\n",
    "            nn.ReLU(),\n",
    "            nn.Linear(self.hidden_dim, self.vocab_size),\n",
    "        ).to(device)\n",
    "\n",
    "    def forward(self, inputs):\n",
    "        emb = self.emb_table(inputs).reshape((inputs.shape[0], -1)).to(device)\n",
    "        logits = self.mlp(emb)\n",
    "        log_probs = F.log_softmax(logits, dim=1)\n",
    "        return log_probs\n",
    "\n",
    "    def predict(self, inputs):\n",
    "        log_probs = self.forward(inputs)\n",
    "        y_pred =  log_probs.argmax(dim=1)\n",
    "        return y_pred\n",
    "\n",
    "    def evaluate(self, x, y, data_name=\"data\", batch_size=256):\n",
    "        self.eval()\n",
    "        perplexity = Perplexity()\n",
    "        with torch.no_grad():\n",
    "            for i in range(0, x.shape[0], batch_size):\n",
    "                batch = x[i:i + batch_size]\n",
    "                log_probs = self.forward(batch)\n",
    "                gold = y[i:i + batch_size]\n",
    "                log_probs_gold = log_probs[range(0,gold.shape[0]),gold]\n",
    "                perplexity.add_sentence(log_probs_gold)\n",
    "        prep = perplexity.compute_perplexity()\n",
    "        perplexity.reset()\n",
    "        print(f'perplexity on {data_name} : {prep:.3f}')\n",
    "        return prep\n",
    "\n",
    "\n",
    "embedding_dim = 64\n",
    "vocab_size = len(word_dict)\n",
    "ngram = nGramModel(vocab_size=vocab_size, embedding_dim=embedding_dim).to(device)\n",
    "inputs = x_train[:5]\n",
    "log_probs = ngram(inputs)\n",
    "print(ngram.predict(inputs))\n",
    "\n",
    "\n",
    "ngram.evaluate(x_train, y_train, data_name=\"x_train\")"
   ]
  },
  {
   "cell_type": "code",
   "execution_count": 87,
   "metadata": {},
   "outputs": [],
   "source": [
    "def shuffle_two_arrays(a, b):\n",
    "    assert len(a) == len(b)\n",
    "    p = torch.randperm(len(a))\n",
    "    return a[p], b[p]\n",
    "\n",
    "def train(model, n_epoch=200, batch_size=256, optimizer=Adam16, lr=1e-3, early_stopping=True, early_stopping_limit=2, save_plot=False, x_train=x_train, y_train=y_train, x_dev=x_dev, y_dev=y_dev, x_test=x_test, y_test=y_test):\n",
    "    early_stopping_limit = early_stopping_limit\n",
    "    dev_loss_up = 0\n",
    "    my_optimizer = optimizer(model.parameters(), lr=lr)\n",
    "    loss_train = list()\n",
    "    loss_dev = list()\n",
    "    loss_function = nn.NLLLoss()\n",
    "    for epoch in range(n_epoch):\n",
    "        model.train()\n",
    "        # shuffle\n",
    "        x_train, y_train = shuffle_two_arrays(x_train, y_train)\n",
    "        losses_train = list()\n",
    "        counter = 0\n",
    "        for i in range(0, x_train.shape[0], batch_size):\n",
    "            my_optimizer.zero_grad()\n",
    "            batch = x_train[i:i+batch_size]\n",
    "            gold = y_train[i:i+batch_size]\n",
    "            log_probs = model(batch)\n",
    "            loss = loss_function(log_probs, gold)\n",
    "            losses_train.append(loss.item())\n",
    "            loss.backward()\n",
    "            torch.nn.utils.clip_grad_norm_(model.parameters(), 5)\n",
    "            my_optimizer.step()\n",
    "            print(f\"batch {counter}/{int(x_train.shape[0]/batch_size)}\", end='\\r', flush=True)\n",
    "            counter += 1\n",
    "        mean_train_loss = sum(losses_train)/len(losses_train)\n",
    "        loss_train.append(mean_train_loss)\n",
    "        losses_dev = []\n",
    "        model.eval()\n",
    "        with torch.no_grad():\n",
    "            for i in range(0, x_dev.shape[0], batch_size):\n",
    "                try:\n",
    "                    dev_batch = x_dev[i:i + batch_size]\n",
    "                    dev_labels = y_dev[i:i + batch_size]\n",
    "                    dev_loss = loss_function(model(dev_batch), dev_labels)\n",
    "                    losses_dev.append(dev_loss.item())\n",
    "                except:\n",
    "                    print(\"batch\", batch.shape)\n",
    "                    continue\n",
    "                    \n",
    "        mean_dev_loss = sum(losses_dev) / len(losses_dev)\n",
    "        loss_dev.append(mean_dev_loss)\n",
    "        print(f\"{epoch+1}) train_loss: {mean_train_loss:.3f}  dev_loss: {mean_dev_loss:.3f}  \")\n",
    "\n",
    "        if early_stopping: \n",
    "            if len(loss_dev)>5 and loss_dev[-1]>=loss_dev[-2]:\n",
    "                dev_loss_up += 1\n",
    "            else:\n",
    "                dev_loss_up = 0\n",
    "            if dev_loss_up==early_stopping_limit:\n",
    "                print(f\"Preformed {epoch+1} epochs\")\n",
    "                break\n",
    "\n",
    "    # evaluation\n",
    "    prep_train = model.evaluate(x_train, y_train, data_name=\"train\")\n",
    "    prep_dev = model.evaluate(x_dev, y_dev, data_name=\"dev\")\n",
    "    prep_test = model.evaluate(x_test, y_test, data_name=\"test\")\n",
    "    prep_model = f'train={prep_train:.1f}, dev={prep_dev:.1f}, test={prep_test:.1f}'\n",
    "\n",
    "    plt.plot(torch.arange(len(loss_train)), loss_train, label=f\"train loss [min={min(loss_train):.3f}]\")\n",
    "    plt.plot(torch.arange(len(loss_dev)), loss_dev, label=f\"dev loss [min={min(loss_dev):.3f}]\")\n",
    "    plt.legend()\n",
    "    title =  f\"optimizer={optimizer.__name__}, lr={lr} \\n perplexity on ({prep_model})\"\n",
    "    plt.title(title)\n",
    "    if save_plot:\n",
    "        os.makedirs(\"plots\",exist_ok=True)\n",
    "        plt.savefig(f'plots/{title}.png')\n",
    "    plt.show()"
   ]
  },
  {
   "cell_type": "code",
   "execution_count": 89,
   "metadata": {},
   "outputs": [
    {
     "name": "stdout",
     "output_type": "stream",
     "text": [
      "1) train_loss: 6.982  dev_loss: 6.341  \n",
      "2) train_loss: 6.179  dev_loss: 6.061  \n",
      "3) train_loss: 5.953  dev_loss: 5.905  \n",
      "4) train_loss: 5.812  dev_loss: 5.812  \n",
      "5) train_loss: 5.717  dev_loss: 5.752  \n",
      "6) train_loss: 5.647  dev_loss: 5.712  \n",
      "7) train_loss: 5.594  dev_loss: 5.685  \n",
      "8) train_loss: 5.552  dev_loss: 5.667  \n",
      "9) train_loss: 5.519  dev_loss: 5.655  \n",
      "10) train_loss: 5.492  dev_loss: 5.650  \n",
      "11) train_loss: 5.470  dev_loss: 5.650  \n",
      "12) train_loss: 5.453  dev_loss: 5.656  \n",
      "13) train_loss: 5.440  dev_loss: 5.671  \n",
      "Preformed 13 epochs\n",
      "perplexity on train : 42.411\n",
      "perplexity on dev : 50.970\n",
      "perplexity on test : 47.629\n"
     ]
    },
    {
     "data": {
      "image/png": "[encoded data removed]",
      "text/plain": [
       "<Figure size 432x288 with 1 Axes>"
      ]
     },
     "metadata": {
      "needs_background": "light"
     },
     "output_type": "display_data"
    }
   ],
   "source": [
    "trigram = nGramModel(vocab_size=vocab_size, embedding_dim=embedding_dim).half().to(device)\n",
    "train(trigram, n_epoch=200, batch_size=1024)"
   ]
  },
  {
   "cell_type": "markdown",
   "metadata": {},
   "source": [
    "## LSTM model\n",
    "\n",
    "This model should rely on a LSTM.\n",
    "\n",
    "1. transform the data into tensors => you can't use the same trick as for the n-gram model\n",
    "2. train the network by batching the input --- be very careful when computing the loss function! And explain how to batch data, compute the loss with batch data, etc, in the report!\n",
    "3. compute the perplexity on the test data\n",
    "4. implement variational dropout at input and output of the LSTM\n",
    "\n",
    "Warning: you need to use the option batch_first=True for the LSTM."
   ]
  },
  {
   "cell_type": "code",
   "execution_count": 10,
   "metadata": {},
   "outputs": [
    {
     "data": {
      "text/plain": [
       "torch.Size([24])"
      ]
     },
     "execution_count": 10,
     "metadata": {},
     "output_type": "execute_result"
    }
   ],
   "source": [
    "def to_list_tensors(data): \n",
    "    return list(map(lambda x: torch.LongTensor(x).to(device), data))\n",
    "\n",
    "x_train = to_list_tensors(train_data_idx)\n",
    "x_dev = to_list_tensors(dev_data_idx)\n",
    "x_test = to_list_tensors(test_data_idx)\n",
    "x_train[0].size()"
   ]
  },
  {
   "cell_type": "code",
   "execution_count": 11,
   "metadata": {},
   "outputs": [],
   "source": [
    "class VariationalDropout(nn.Module):\n",
    "    def __init__(self, dropout: float):\n",
    "        super().__init__()\n",
    "        self.dropout = dropout\n",
    "\n",
    "        if dropout<0 or dropout>1:\n",
    "            print(\"Warning: Dropout should be >0 and <1\")\n",
    "\n",
    "    def forward(self, x: torch.Tensor) -> torch.Tensor:\n",
    "        if not self.training or self.dropout <= 0. or self.dropout > 1.:\n",
    "            return x\n",
    "        batch_size, num_words, emb_dim = x.size()\n",
    "        m = x.new_empty(batch_size, 1, emb_dim, requires_grad=False).bernoulli_(1 - self.dropout)\n",
    "        x = (x*m) / (1 - self.dropout)\n",
    "        return x"
   ]
  },
  {
   "cell_type": "code",
   "execution_count": 22,
   "metadata": {},
   "outputs": [
    {
     "name": "stdout",
     "output_type": "stream",
     "text": [
      "perplexity on train : 592.071\n"
     ]
    },
    {
     "data": {
      "text/plain": [
       "tensor(592.0710, device='cuda:0')"
      ]
     },
     "execution_count": 22,
     "metadata": {},
     "output_type": "execute_result"
    }
   ],
   "source": [
    "class LSTM_MODEL(nn.Module):\n",
    "    def __init__(self, vocab_size, embedding_dim, hidden_dim=10, hidden_size=10, context_size=3, num_layers=1, dropout=0.0):\n",
    "        super(LSTM_MODEL, self).__init__()\n",
    "        # To create an embedding table: https://pytorch.org/docs/stable/nn.html#torch.nn.Embedding\n",
    "        self.vocab_size = vocab_size\n",
    "        self.embedding_dim = embedding_dim\n",
    "        self.context_size = context_size\n",
    "        self.hidden_dim = hidden_dim\n",
    "        self.hidden_size = hidden_size\n",
    "        self.dropout = VariationalDropout(dropout)\n",
    "        self.emb_table = nn.Embedding(\n",
    "            self.vocab_size+1, self.embedding_dim, padding_idx=self.vocab_size)\n",
    "        self.lstm = nn.LSTM(input_size=self.embedding_dim, hidden_size=self.hidden_size,\n",
    "                            num_layers=num_layers, batch_first=True).to(device)  # lstm\n",
    "        self.mlp = nn.Sequential(\n",
    "            nn.ReLU(),\n",
    "            nn.Linear(self.hidden_size, self.hidden_dim),\n",
    "            nn.ReLU(),\n",
    "            nn.Linear(self.hidden_dim, self.vocab_size),\n",
    "        ).to(device)\n",
    "\n",
    "    def forward(self, inputs):\n",
    "        w = torch.empty(len(inputs), max(len(s) for s in inputs), dtype=torch.long).to(device)\n",
    "        w.fill_(self.emb_table.padding_idx)\n",
    "        for i,input in enumerate(inputs):\n",
    "            w[i,:input.shape[0]] = input\n",
    "        mask = (w!=self.emb_table.padding_idx).to(int)\n",
    "        embs = self.emb_table(w)\n",
    "        embs = self.dropout(embs)\n",
    "        self.lstm.flatten_parameters()   # to avoid a warning\n",
    "        output, _ = self.lstm(embs)\n",
    "        output = self.dropout(output)\n",
    "        output *= mask.unsqueeze(dim=2).expand(output.size())   # don't feed the paddings representation to the MLP\n",
    "        logits = self.mlp(output)\n",
    "        log_probs = F.log_softmax(logits, dim=2)\n",
    "        list_log_probs = []\n",
    "        for i in range(log_probs.shape[0]):\n",
    "            list_log_probs.append(log_probs[i, :(inputs[i].shape[0])])\n",
    "        return list_log_probs\n",
    "\n",
    "    def evaluate(self, data, data_name=\"data\", batch_size=256):\n",
    "        perplexity = Perplexity()\n",
    "        self.eval()\n",
    "        with torch.no_grad():\n",
    "            for i in range(0, len(data), batch_size):\n",
    "                batch = data[i:i + batch_size]\n",
    "                gold = torch.cat(batch)\n",
    "                list_log_probs = self.forward(batch)\n",
    "                log_probs = torch.cat(list_log_probs)\n",
    "                log_probs_gold = log_probs[range(0,gold.shape[0]),gold]\n",
    "                perplexity.add_sentence(log_probs_gold)\n",
    "        prep = perplexity.compute_perplexity()\n",
    "        perplexity.reset()\n",
    "        print(f'perplexity on {data_name} : {prep:.3f}')\n",
    "        return prep\n",
    "\n",
    "embedding_dim = 64\n",
    "vocab_size = len(word_dict)\n",
    "lstm_model = LSTM_MODEL(vocab_size=vocab_size, embedding_dim=embedding_dim).half().to(device)\n",
    "inputs = x_train[:5]\n",
    "log_probs = lstm_model(inputs)\n",
    "\n",
    "lstm_model.evaluate(x_train, data_name=\"train\")"
   ]
  },
  {
   "cell_type": "code",
   "execution_count": 16,
   "metadata": {},
   "outputs": [],
   "source": [
    "def train(model, n_epoch=200, batch_size=256, optimizer=Adam16, lr=1e-3, early_stopping=True, early_stopping_limit=2, save_plot=False, x_train=x_train, x_dev=x_dev, x_test=x_test):\n",
    "    early_stopping_limit = early_stopping_limit\n",
    "    dev_loss_up = 0\n",
    "    my_optimizer = optimizer(model.parameters(), lr=lr)\n",
    "    loss_train = list()\n",
    "    loss_dev = list()\n",
    "    loss_function = nn.NLLLoss()\n",
    "    for epoch in range(n_epoch):\n",
    "        model.train()\n",
    "        losses_train = list()\n",
    "        counter = 0\n",
    "        for i in range(0, len(x_train), batch_size):\n",
    "            my_optimizer.zero_grad()\n",
    "            batch = x_train[i:i+batch_size]\n",
    "            list_log_probs = model(batch)\n",
    "            log_probs = torch.cat(list_log_probs)\n",
    "            gold = torch.cat(batch)\n",
    "            loss = loss_function(log_probs, gold)\n",
    "            losses_train.append(loss.item())\n",
    "            loss.backward()\n",
    "            torch.nn.utils.clip_grad_norm_(model.parameters(), 5)\n",
    "            my_optimizer.step()\n",
    "            print(f\"batch {counter}/{int(len(x_train)/batch_size)}\", end='\\r', flush=True)\n",
    "            counter += 1\n",
    "        mean_train_loss = sum(losses_train)/len(losses_train)\n",
    "        loss_train.append(mean_train_loss)\n",
    "        losses_dev = []\n",
    "\n",
    "        model.eval()\n",
    "        with torch.no_grad():\n",
    "            for i in range(0, len(x_dev), batch_size):\n",
    "                try:\n",
    "                    batch = x_dev[i:i+batch_size]\n",
    "                    list_log_probs = model(batch)\n",
    "                    log_probs = torch.cat(list_log_probs)\n",
    "                    dev_labels = torch.cat(batch)\n",
    "                    dev_loss = loss_function(log_probs, dev_labels)\n",
    "                    losses_dev.append(dev_loss.item())\n",
    "                except:\n",
    "                    print(\"batch\", len(batch))\n",
    "                    continue\n",
    "                    \n",
    "        mean_dev_loss = sum(losses_dev) / len(losses_dev)\n",
    "        loss_dev.append(mean_dev_loss)\n",
    "        print(f\"{epoch+1}) train_loss: {mean_train_loss:.3f}  dev_loss: {mean_dev_loss:.3f}  \")\n",
    "\n",
    "        if early_stopping: \n",
    "            if len(loss_dev)>5 and loss_dev[-1]>=loss_dev[-2]:\n",
    "                dev_loss_up += 1\n",
    "            else:\n",
    "                dev_loss_up = 0\n",
    "            if dev_loss_up==early_stopping_limit:\n",
    "                print(f\"Preformed {epoch+1} epochs\")\n",
    "                break\n",
    "\n",
    "    # evaluation\n",
    "    prep_train = model.evaluate(x_train, data_name=\"train\")\n",
    "    prep_dev = model.evaluate(x_dev, data_name=\"dev\")\n",
    "    prep_test = model.evaluate(x_test, data_name=\"test\")\n",
    "    prep_model = f'train={prep_train:.1f}, dev={prep_dev:.1f}, test={prep_test:.1f}'\n",
    "\n",
    "\n",
    "    plt.plot(torch.arange(len(loss_train)), loss_train, label=f\"train loss [min={min(loss_train):.3f}]\")\n",
    "    plt.plot(torch.arange(len(loss_dev)), loss_dev, label=f\"dev loss [min={min(loss_dev):.3f}]\")\n",
    "    plt.legend()\n",
    "    title =  f\"optimizer={optimizer.__name__}, lr={lr} \\n perplexity on ({prep_model})\"\n",
    "    plt.title(title)\n",
    "    if save_plot:\n",
    "        os.makedirs(\"plots\",exist_ok=True)\n",
    "        plt.savefig(f'plots/{title}.png')\n",
    "    plt.show()"
   ]
  },
  {
   "cell_type": "code",
   "execution_count": 32,
   "metadata": {},
   "outputs": [
    {
     "name": "stdout",
     "output_type": "stream",
     "text": [
      "1) train_loss: 9.187  dev_loss: 9.010  \n",
      "2) train_loss: 8.592  dev_loss: 7.861  \n",
      "3) train_loss: 7.437  dev_loss: 6.896  \n",
      "4) train_loss: 6.919  dev_loss: 6.595  \n",
      "5) train_loss: 6.758  dev_loss: 6.471  \n",
      "6) train_loss: 6.671  dev_loss: 6.398  \n",
      "7) train_loss: 6.614  dev_loss: 6.356  \n",
      "8) train_loss: 6.582  dev_loss: 6.335  \n",
      "9) train_loss: 6.570  dev_loss: 6.335  \n",
      "10) train_loss: 6.576  dev_loss: 6.352  \n",
      "11) train_loss: 6.590  dev_loss: 6.382  \n",
      "Preformed 11 epochs\n",
      "perplexity on train : 84.741\n",
      "perplexity on dev : 83.399\n",
      "perplexity on test : 79.436\n"
     ]
    },
    {
     "data": {
      "image/png": "[encoded data removed]",
      "text/plain": [
       "<Figure size 432x288 with 1 Axes>"
      ]
     },
     "metadata": {
      "needs_background": "light"
     },
     "output_type": "display_data"
    }
   ],
   "source": [
    "model = LSTM_MODEL(vocab_size=vocab_size, embedding_dim=32, hidden_size=3, hidden_dim=3, dropout=0.3).half().to(device)\n",
    "train(model, n_epoch=20)"
   ]
  }
 ],
 "metadata": {
  "kernelspec": {
   "display_name": "Python 3.10.4 64-bit",
   "language": "python",
   "name": "python3"
  },
  "language_info": {
   "codemirror_mode": {
    "name": "ipython",
    "version": 3
   },
   "file_extension": ".py",
   "mimetype": "text/x-python",
   "name": "python",
   "nbconvert_exporter": "python",
   "pygments_lexer": "ipython3",
   "version": "3.10.4 (tags/v3.10.4:9d38120, Mar 23 2022, 23:13:41) [MSC v.1929 64 bit (AMD64)]"
  },
  "vscode": {
   "interpreter": {
    "hash": "33184612fe23ea789693bd8266f7c5cf5860109e6e433b1efdda378c5f430ce8"
   }
  }
 },
 "nbformat": 4,
 "nbformat_minor": 4
}
